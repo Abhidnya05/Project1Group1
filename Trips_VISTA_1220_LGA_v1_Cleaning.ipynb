{
 "cells": [
  {
   "cell_type": "code",
   "execution_count": 2,
   "id": "baf578dc",
   "metadata": {},
   "outputs": [],
   "source": [
    "#Importing dependencies \n",
    "import pandas as pd \n",
    "import os "
   ]
  },
  {
   "cell_type": "code",
   "execution_count": 3,
   "id": "83d0f440",
   "metadata": {},
   "outputs": [],
   "source": [
    "#Please Note that the orignal dataset will not be present in Git repository "
   ]
  },
  {
   "cell_type": "code",
   "execution_count": 4,
   "id": "fd4ff8e7",
   "metadata": {},
   "outputs": [],
   "source": [
    "#Defining path to file\n",
    "file_path = \"Resources/Trips_VISTA_1220_LGA_v1.csv\""
   ]
  },
  {
   "cell_type": "code",
   "execution_count": 5,
   "id": "946072d0",
   "metadata": {},
   "outputs": [
    {
     "data": {
      "text/plain": [
       "True"
      ]
     },
     "execution_count": 5,
     "metadata": {},
     "output_type": "execute_result"
    }
   ],
   "source": [
    "#Checking if the path can be read\n",
    "os.path.isfile(file_path)"
   ]
  },
  {
   "cell_type": "code",
   "execution_count": 6,
   "id": "e1b9d03e",
   "metadata": {},
   "outputs": [],
   "source": [
    "#Reading the csv file.\n",
    "file = pd.read_csv(file_path, low_memory=False)"
   ]
  },
  {
   "cell_type": "code",
   "execution_count": 7,
   "id": "d46a4cc2",
   "metadata": {},
   "outputs": [
    {
     "data": {
      "text/plain": [
       "False"
      ]
     },
     "execution_count": 7,
     "metadata": {},
     "output_type": "execute_result"
    }
   ],
   "source": [
    "#Checking for duplicate trip ID\n",
    "file.duplicated(subset='tripid').any()"
   ]
  },
  {
   "cell_type": "code",
   "execution_count": 8,
   "id": "83403486",
   "metadata": {},
   "outputs": [
    {
     "data": {
      "text/plain": [
       "Index(['tripid', 'persid', 'hhid', 'stops', 'tripno', 'starthour', 'startime',\n",
       "       'arrhour', 'arrtime', 'triptime', 'travtime', 'waitime', 'duration',\n",
       "       'cumdist', 'origplace1', 'origplace2', 'origpurp1', 'origpurp2',\n",
       "       'destplace1', 'destplace2', 'destpurp1', 'destpurp2', 'origLGA',\n",
       "       'destLGA', 'trippurp', 'linkmode', 'dist1', 'dist2', 'dist3', 'dist4',\n",
       "       'dist5', 'dist6', 'dist7', 'dist8', 'dist9', 'dist10', 'mode1', 'mode2',\n",
       "       'mode3', 'mode4', 'mode5', 'mode6', 'mode7', 'mode8', 'mode9', 'mode10',\n",
       "       'time1', 'time2', 'time3', 'time4', 'time5', 'time6', 'time7', 'time8',\n",
       "       'time9', 'time10', 'wdtripwgt_LGA', 'wetripwgt_LGA'],\n",
       "      dtype='object')"
      ]
     },
     "execution_count": 8,
     "metadata": {},
     "output_type": "execute_result"
    }
   ],
   "source": [
    "#Checking csv columns names\n",
    "file.head().columns"
   ]
  },
  {
   "cell_type": "code",
   "execution_count": 9,
   "id": "85b1f9af",
   "metadata": {},
   "outputs": [
    {
     "data": {
      "text/html": [
       "<div>\n",
       "<style scoped>\n",
       "    .dataframe tbody tr th:only-of-type {\n",
       "        vertical-align: middle;\n",
       "    }\n",
       "\n",
       "    .dataframe tbody tr th {\n",
       "        vertical-align: top;\n",
       "    }\n",
       "\n",
       "    .dataframe thead th {\n",
       "        text-align: right;\n",
       "    }\n",
       "</style>\n",
       "<table border=\"1\" class=\"dataframe\">\n",
       "  <thead>\n",
       "    <tr style=\"text-align: right;\">\n",
       "      <th></th>\n",
       "      <th>tripid</th>\n",
       "      <th>persid</th>\n",
       "      <th>hhid</th>\n",
       "      <th>stops</th>\n",
       "      <th>tripno</th>\n",
       "      <th>starthour</th>\n",
       "      <th>startime</th>\n",
       "      <th>arrhour</th>\n",
       "      <th>arrtime</th>\n",
       "      <th>triptime</th>\n",
       "      <th>...</th>\n",
       "      <th>time3</th>\n",
       "      <th>time4</th>\n",
       "      <th>time5</th>\n",
       "      <th>time6</th>\n",
       "      <th>time7</th>\n",
       "      <th>time8</th>\n",
       "      <th>time9</th>\n",
       "      <th>time10</th>\n",
       "      <th>wdtripwgt_LGA</th>\n",
       "      <th>wetripwgt_LGA</th>\n",
       "    </tr>\n",
       "  </thead>\n",
       "  <tbody>\n",
       "    <tr>\n",
       "      <th>0</th>\n",
       "      <td>Y12H0000101P01T01</td>\n",
       "      <td>Y12H0000101P01</td>\n",
       "      <td>Y12H0000101</td>\n",
       "      <td>1</td>\n",
       "      <td>1</td>\n",
       "      <td>8</td>\n",
       "      <td>525</td>\n",
       "      <td>9</td>\n",
       "      <td>545</td>\n",
       "      <td>20</td>\n",
       "      <td>...</td>\n",
       "      <td>NaN</td>\n",
       "      <td>NaN</td>\n",
       "      <td>NaN</td>\n",
       "      <td>NaN</td>\n",
       "      <td>NaN</td>\n",
       "      <td>NaN</td>\n",
       "      <td>NaN</td>\n",
       "      <td>NaN</td>\n",
       "      <td>86.36</td>\n",
       "      <td>NaN</td>\n",
       "    </tr>\n",
       "    <tr>\n",
       "      <th>1</th>\n",
       "      <td>Y12H0000101P01T02</td>\n",
       "      <td>Y12H0000101P01</td>\n",
       "      <td>Y12H0000101</td>\n",
       "      <td>1</td>\n",
       "      <td>2</td>\n",
       "      <td>17</td>\n",
       "      <td>1050</td>\n",
       "      <td>17</td>\n",
       "      <td>1075</td>\n",
       "      <td>25</td>\n",
       "      <td>...</td>\n",
       "      <td>NaN</td>\n",
       "      <td>NaN</td>\n",
       "      <td>NaN</td>\n",
       "      <td>NaN</td>\n",
       "      <td>NaN</td>\n",
       "      <td>NaN</td>\n",
       "      <td>NaN</td>\n",
       "      <td>NaN</td>\n",
       "      <td>86.36</td>\n",
       "      <td>NaN</td>\n",
       "    </tr>\n",
       "    <tr>\n",
       "      <th>2</th>\n",
       "      <td>Y12H0000101P02T01</td>\n",
       "      <td>Y12H0000101P02</td>\n",
       "      <td>Y12H0000101</td>\n",
       "      <td>1</td>\n",
       "      <td>1</td>\n",
       "      <td>8</td>\n",
       "      <td>500</td>\n",
       "      <td>8</td>\n",
       "      <td>520</td>\n",
       "      <td>20</td>\n",
       "      <td>...</td>\n",
       "      <td>NaN</td>\n",
       "      <td>NaN</td>\n",
       "      <td>NaN</td>\n",
       "      <td>NaN</td>\n",
       "      <td>NaN</td>\n",
       "      <td>NaN</td>\n",
       "      <td>NaN</td>\n",
       "      <td>NaN</td>\n",
       "      <td>82.69</td>\n",
       "      <td>NaN</td>\n",
       "    </tr>\n",
       "    <tr>\n",
       "      <th>3</th>\n",
       "      <td>Y12H0000101P02T02</td>\n",
       "      <td>Y12H0000101P02</td>\n",
       "      <td>Y12H0000101</td>\n",
       "      <td>1</td>\n",
       "      <td>2</td>\n",
       "      <td>9</td>\n",
       "      <td>540</td>\n",
       "      <td>9</td>\n",
       "      <td>550</td>\n",
       "      <td>10</td>\n",
       "      <td>...</td>\n",
       "      <td>NaN</td>\n",
       "      <td>NaN</td>\n",
       "      <td>NaN</td>\n",
       "      <td>NaN</td>\n",
       "      <td>NaN</td>\n",
       "      <td>NaN</td>\n",
       "      <td>NaN</td>\n",
       "      <td>NaN</td>\n",
       "      <td>82.69</td>\n",
       "      <td>NaN</td>\n",
       "    </tr>\n",
       "    <tr>\n",
       "      <th>4</th>\n",
       "      <td>Y12H0000101P02T03</td>\n",
       "      <td>Y12H0000101P02</td>\n",
       "      <td>Y12H0000101</td>\n",
       "      <td>1</td>\n",
       "      <td>3</td>\n",
       "      <td>10</td>\n",
       "      <td>600</td>\n",
       "      <td>10</td>\n",
       "      <td>610</td>\n",
       "      <td>10</td>\n",
       "      <td>...</td>\n",
       "      <td>NaN</td>\n",
       "      <td>NaN</td>\n",
       "      <td>NaN</td>\n",
       "      <td>NaN</td>\n",
       "      <td>NaN</td>\n",
       "      <td>NaN</td>\n",
       "      <td>NaN</td>\n",
       "      <td>NaN</td>\n",
       "      <td>82.69</td>\n",
       "      <td>NaN</td>\n",
       "    </tr>\n",
       "  </tbody>\n",
       "</table>\n",
       "<p>5 rows × 58 columns</p>\n",
       "</div>"
      ],
      "text/plain": [
       "              tripid          persid         hhid  stops  tripno  starthour  \\\n",
       "0  Y12H0000101P01T01  Y12H0000101P01  Y12H0000101      1       1          8   \n",
       "1  Y12H0000101P01T02  Y12H0000101P01  Y12H0000101      1       2         17   \n",
       "2  Y12H0000101P02T01  Y12H0000101P02  Y12H0000101      1       1          8   \n",
       "3  Y12H0000101P02T02  Y12H0000101P02  Y12H0000101      1       2          9   \n",
       "4  Y12H0000101P02T03  Y12H0000101P02  Y12H0000101      1       3         10   \n",
       "\n",
       "   startime  arrhour  arrtime  triptime  ...  time3  time4  time5  time6  \\\n",
       "0       525        9      545        20  ...    NaN    NaN    NaN    NaN   \n",
       "1      1050       17     1075        25  ...    NaN    NaN    NaN    NaN   \n",
       "2       500        8      520        20  ...    NaN    NaN    NaN    NaN   \n",
       "3       540        9      550        10  ...    NaN    NaN    NaN    NaN   \n",
       "4       600       10      610        10  ...    NaN    NaN    NaN    NaN   \n",
       "\n",
       "  time7 time8 time9 time10 wdtripwgt_LGA wetripwgt_LGA  \n",
       "0   NaN   NaN   NaN    NaN         86.36           NaN  \n",
       "1   NaN   NaN   NaN    NaN         86.36           NaN  \n",
       "2   NaN   NaN   NaN    NaN         82.69           NaN  \n",
       "3   NaN   NaN   NaN    NaN         82.69           NaN  \n",
       "4   NaN   NaN   NaN    NaN         82.69           NaN  \n",
       "\n",
       "[5 rows x 58 columns]"
      ]
     },
     "execution_count": 9,
     "metadata": {},
     "output_type": "execute_result"
    }
   ],
   "source": [
    "#Display file\n",
    "file.head()"
   ]
  },
  {
   "cell_type": "code",
   "execution_count": 9,
   "id": "8e04e800",
   "metadata": {},
   "outputs": [],
   "source": [
    "#Displaying train_df Table\n",
    "train_df = file"
   ]
  },
  {
   "cell_type": "code",
   "execution_count": 10,
   "id": "db28eb40",
   "metadata": {},
   "outputs": [
    {
     "data": {
      "text/plain": [
       "Index(['tripid', 'persid', 'hhid', 'stops', 'tripno', 'starthour', 'startime',\n",
       "       'arrhour', 'arrtime', 'triptime', 'travtime', 'waitime', 'duration',\n",
       "       'cumdist', 'origplace1', 'origplace2', 'origpurp1', 'origpurp2',\n",
       "       'destplace1', 'destplace2', 'destpurp1', 'destpurp2', 'origLGA',\n",
       "       'destLGA', 'trippurp', 'linkmode', 'dist1', 'dist2', 'dist3', 'dist4',\n",
       "       'dist5', 'dist6', 'dist7', 'dist8', 'dist9', 'dist10', 'mode1', 'mode2',\n",
       "       'mode3', 'mode4', 'mode5', 'mode6', 'mode7', 'mode8', 'mode9', 'mode10',\n",
       "       'time1', 'time2', 'time3', 'time4', 'time5', 'time6', 'time7', 'time8',\n",
       "       'time9', 'time10', 'wdtripwgt_LGA', 'wetripwgt_LGA'],\n",
       "      dtype='object')"
      ]
     },
     "execution_count": 10,
     "metadata": {},
     "output_type": "execute_result"
    }
   ],
   "source": [
    "#Looking at removing certain columns\n",
    "train_df.head().columns"
   ]
  },
  {
   "cell_type": "code",
   "execution_count": 11,
   "id": "9d68cebf",
   "metadata": {},
   "outputs": [
    {
     "data": {
      "text/plain": [
       "Index(['tripid', 'persid', 'stops', 'tripno', 'startime', 'arrtime',\n",
       "       'triptime', 'travtime', 'waitime', 'duration', 'cumdist', 'origplace1',\n",
       "       'origplace2', 'origpurp1', 'origpurp2', 'destplace1', 'destplace2',\n",
       "       'destpurp1', 'destpurp2', 'origLGA', 'destLGA', 'trippurp', 'linkmode',\n",
       "       'dist1', 'dist2', 'dist3', 'dist4', 'dist5', 'dist6', 'dist7', 'dist8',\n",
       "       'dist9', 'dist10', 'mode1', 'mode2', 'mode3', 'mode4', 'mode5', 'mode6',\n",
       "       'mode7', 'mode8', 'mode9', 'mode10', 'time1', 'time2', 'time3', 'time4',\n",
       "       'time5', 'time6', 'time7', 'time8', 'time9', 'time10'],\n",
       "      dtype='object')"
      ]
     },
     "execution_count": 11,
     "metadata": {},
     "output_type": "execute_result"
    }
   ],
   "source": [
    "#Delete useless columns \n",
    "del train_df['wdtripwgt_LGA']\n",
    "del train_df['wetripwgt_LGA']\n",
    "del train_df['starthour']\n",
    "del train_df['arrhour']\n",
    "del train_df['hhid']\n",
    "#Checking columns after deletion \n",
    "train_df.head().columns"
   ]
  },
  {
   "cell_type": "code",
   "execution_count": 12,
   "id": "93ae1212",
   "metadata": {},
   "outputs": [],
   "source": [
    "#Clean up trippurp column \n",
    "train_df.drop(train_df[train_df['trippurp'] == 'Not Stated'].index, inplace = True)\n",
    "train_df.drop(train_df[train_df['trippurp'] == 'Unknown Purpose'].index, inplace = True)"
   ]
  },
  {
   "cell_type": "code",
   "execution_count": 13,
   "id": "256d646a",
   "metadata": {},
   "outputs": [
    {
     "name": "stdout",
     "output_type": "stream",
     "text": [
      "Mode1 contains train values\n",
      "Mode2 contains train values\n",
      "Mode3 contains train values\n",
      "Mode4 contains train values\n",
      "Mode5 contains train values\n",
      "Mode6 contains train values\n",
      "Mode7 contains train values\n",
      "Mode8 Does not contain train values\n",
      "Mode9 Does not contain train values\n",
      "Mode10 Does not contain train values\n"
     ]
    }
   ],
   "source": [
    "#Checking mode value to see which columns actually contain 'Trains'\n",
    "for i in range(1,11,1):\n",
    "    #If values in mode column does not contain any 'Train' values, delete that column\n",
    "    if (train_df.loc[train_df['mode' +str(i)] == 'Train'].any().any()) == False:\n",
    "        del train_df['mode'+str(i)]\n",
    "        #Also delete Time and Distance column assoicated with it\n",
    "        del train_df['time'+str(i)]\n",
    "        del train_df['dist'+str(i)]\n",
    "        print(f\"Mode{i} Does not contain train values\")\n",
    "    else:\n",
    "        print(f\"Mode{i} contains train values\")\n"
   ]
  },
  {
   "cell_type": "code",
   "execution_count": 14,
   "id": "1cfc82f4",
   "metadata": {},
   "outputs": [],
   "source": [
    "#Extract year from trip id \n",
    "#Create empty list to hold year values\n",
    "year = []\n",
    "#Loop through data, and append year value into list\n",
    "for i in range(len(train_df)):\n",
    "    year.append(\"20\" + train_df['tripid'].iloc[i][1:3])"
   ]
  },
  {
   "cell_type": "code",
   "execution_count": 15,
   "id": "1de8f1ad",
   "metadata": {},
   "outputs": [],
   "source": [
    "#Adding year column into dataframe\n",
    "train_df.insert(loc = 2,\n",
    "               column = 'Year',\n",
    "               value = year)"
   ]
  },
  {
   "cell_type": "code",
   "execution_count": 16,
   "id": "11b89577",
   "metadata": {},
   "outputs": [
    {
     "data": {
      "text/plain": [
       "Index(['tripid', 'persid', 'Year', 'stops', 'tripno', 'startime', 'arrtime',\n",
       "       'triptime', 'travtime', 'waitime', 'duration', 'cumdist', 'origplace1',\n",
       "       'origplace2', 'origpurp1', 'origpurp2', 'destplace1', 'destplace2',\n",
       "       'destpurp1', 'destpurp2', 'origLGA', 'destLGA', 'trippurp', 'linkmode',\n",
       "       'dist1', 'dist2', 'dist3', 'dist4', 'dist5', 'dist6', 'dist7', 'mode1',\n",
       "       'mode2', 'mode3', 'mode4', 'mode5', 'mode6', 'mode7', 'time1', 'time2',\n",
       "       'time3', 'time4', 'time5', 'time6', 'time7'],\n",
       "      dtype='object')"
      ]
     },
     "execution_count": 16,
     "metadata": {},
     "output_type": "execute_result"
    }
   ],
   "source": [
    "train_df.head().columns"
   ]
  },
  {
   "cell_type": "code",
   "execution_count": 17,
   "id": "84fc40f3",
   "metadata": {},
   "outputs": [
    {
     "name": "stdout",
     "output_type": "stream",
     "text": [
      "duration column contains NaN values\n",
      "origplace2 column contains NaN values\n",
      "dist2 column contains NaN values\n",
      "dist3 column contains NaN values\n",
      "dist4 column contains NaN values\n",
      "dist5 column contains NaN values\n",
      "dist6 column contains NaN values\n",
      "dist7 column contains NaN values\n",
      "mode2 column contains NaN values\n",
      "mode3 column contains NaN values\n",
      "mode4 column contains NaN values\n",
      "mode5 column contains NaN values\n",
      "mode6 column contains NaN values\n",
      "mode7 column contains NaN values\n",
      "time2 column contains NaN values\n",
      "time3 column contains NaN values\n",
      "time4 column contains NaN values\n",
      "time5 column contains NaN values\n",
      "time6 column contains NaN values\n",
      "time7 column contains NaN values\n"
     ]
    }
   ],
   "source": [
    "#checking all columns for any NaN values \n",
    "for value in train_df.columns:\n",
    "    if train_df[value].isna().any() == True:\n",
    "        print(f\"{value} column contains NaN values\")"
   ]
  },
  {
   "cell_type": "code",
   "execution_count": 18,
   "id": "6ca7c36b",
   "metadata": {},
   "outputs": [],
   "source": [
    "#Replacing NaN values with zero\n",
    "train_df = train_df.fillna(0)"
   ]
  },
  {
   "cell_type": "code",
   "execution_count": 19,
   "id": "f2c9cc05",
   "metadata": {},
   "outputs": [],
   "source": [
    "#Changing LGA values to match other datasets \n",
    "train_df = train_df.replace({'Whittlesea (C)':'Whittlesea C', 'Banyule (C)':'Banyule C', 'Hume (C)':'Hume C',\n",
    "                                        'Whitehorse (C)':'Whitehorse C','Darebin (C)':'Darebin C', \n",
    "                                        'Knox (C)':'Knox C', 'Maroondah (C)':'Maroondah C',\n",
    "                                        'Nillumbik (S)':'Nillumbik S','Manningham (C)':'Manningham C', \n",
    "                                        'Maribyrnong (C)':'Maribyrnong C', 'Moreland (C)':'Moreland C',\n",
    "                                        'Boroondara (C)':'Boroondara C', 'Yarra (C)':'Yarra C', 'Melton (C)':'Melton C',\n",
    "                                        'Brimbank (C)':'Brimbank C','Melbourne (C)':'Melbourne C', \n",
    "                                        'Frankston (C)':'Frankston C', 'Greater Dandenong (C)':'Greater Dandenong C',\n",
    "                                        'Kingston (C) (Vic.)':'Kingston C', 'Mornington Peninsula (S)':'Mornington Peninsula S',\n",
    "                                        'Hobsons Bay (C)':'Hobsons Bay C', 'Monash (C)':'Monash C', \n",
    "                                        'Stonnington (C)':'Stonnington C', 'Wyndham (C)':'Wyndham C','Glen Eira (C)':'Glen Eira C',\n",
    "                                        'Port Phillip (C)':'Port Phillip C', 'Bayside (C)':'Bayside C','Greater Geelong (C)':'Greater Geelong C',\n",
    "                                        'Casey (C)':'Casey C', 'Moonee Valley C':'Moonee Valley C','Macedon Ranges (S)':'Macedon Ranges S', \n",
    "                                        'Yarra Ranges (S)':'Yarra Ranges S', 'Moorabool (S)':'Moorabool S','Cardinia (S)':'Cardinia S',\n",
    "                                        'Queenscliffe (B)':'Queenscliffe B', 'Golden Plains (S)':'Golden Plains S','Murrindindi (S)':'Murrindindi S',\n",
    "                                        'Surf Coast (S)':'Surf Coast S', 'Mitchell (S)':'Mitchell S','Moonee Valley (C)':'Moonee Valley C',\n",
    "                                        'Baw Baw (S)':'Baw Baw S',\n",
    "                                        'Latrobe (C) (Vic.)':'Latrobe C',\n",
    "                                        'Mansfield (S)':'Mansfield S',\n",
    "                                        'Wellington (S)':'Wellington S',\n",
    "                                        'Ballarat (C)':'Ballarat C',\n",
    "                                        'Colac-Otway (S)':'Colac-Otway S',\n",
    "                                        'South Gippsland (S)':'South Gippsland S',\n",
    "                                        'Hepburn (S)':'Hepburn S',\n",
    "                                        'Bass Coast (S)':'Bass Coast S',\n",
    "                                        'Central Goldfields (S)':'Central Goldfields S',\n",
    "                                        'Southern Grampians (S)':'Southern Grampians S',\n",
    "                                        'Strathbogie (S)':'Strathbogie S',\n",
    "                                        'East Gippsland (S)':'East Gippsland S',\n",
    "                                        'Greater Bendigo (C)':'Greater Bendigo C',\n",
    "                                        'Alpine (S)':'Alpine S',\n",
    "                                        'Greater Shepparton (C)':'Greater Shepparton C',\n",
    "                                        'Mount Alexander (S)':'Mount Alexander S',\n",
    "                                        'West Wimmera (S)':'West Wimmera S',\n",
    "                                        'Warrnambool (C)':'Warrnambool C',\n",
    "                                        'Swan Hill (RC)':'Swan Hill RC',\n",
    "                                        'Unincorporated Vic':'Unincorporated Vic',\n",
    "                                        'Horsham (RC)':'Horsham RC',\n",
    "                                        'Indigo (S)':'Indigo S',\n",
    "                                        'Campaspe (S)':'Campaspe S',\n",
    "                                        'Ararat (RC)':'Ararat RC',\n",
    "                                        'Glenelg (S)':'Glenelg S',\n",
    "                                        'Wangaratta (RC)':'Wangaratta RC',\n",
    "                                        'Yarriambiack (S)':'Yarriambiack S',\n",
    "                                        'Benalla (RC)':'Benalla RC',\n",
    "                                        'Corangamite (S)':'Corangamite S',\n",
    "                                        'Moyne (S)':'Moyne S',\n",
    "                                        'Moira (S)':'Moira S',\n",
    "                                        'Buloke (S)':'Buloke S',\n",
    "                                        'Pyrenees (S)':'Pyrenees S',\n",
    "                                        'Northern Grampians (S)':'Northern Grampians S',\n",
    "                                        'Loddon (S)':'Loddon S'})"
   ]
  },
  {
   "cell_type": "code",
   "execution_count": 20,
   "id": "1c88effc",
   "metadata": {},
   "outputs": [],
   "source": [
    "#Renaming columns \n",
    "train_df = train_df.rename(columns={\"tripid\":\"Trip_ID\",\n",
    "                                    \"persid\":\"Person_ID\",\n",
    "                                    \"stops\":\"Total_Stops\",\n",
    "                                    \"tripno\":\"Trip_Count\",\n",
    "                                    \"startime\":\"Start_Time\",\n",
    "                                    \"arrtime\":\"Arrival_Time\",\n",
    "                                    \"triptime\":\"Trip_Time\",\n",
    "                                    \"travtime\":\"Travel_Time\",\n",
    "                                    \"waitime\":\"Wait_Time\",\n",
    "                                    \"duration\":\"Duration\",\n",
    "                                    \"cumdist\":\"Total_Distance\",\n",
    "                                    \"origplace1\":\"Original_Place_1\",\n",
    "                                    \"origpurp1\":\"Original_Purpose_1\",\n",
    "                                    \"origplace2\":\"Original_Place_2\",\n",
    "                                    \"origpurp2\":\"Original_Purpose_2\",\n",
    "                                    \"destplace1\":\"Destination_1\",\n",
    "                                    \"destpurp1\":\"Dest_Purpose_1\",\n",
    "                                    \"destplace2\":\"Destination_2\",\n",
    "                                    \"destpurp2\":\"Dest_Purpose_2\",\n",
    "                                    \"origLGA\":\"Starting_LGA\",\n",
    "                                    \"destLGA\":\"Ending_LGA\",\n",
    "                                    \"trippurp\":\"Trip_Purpose\",\n",
    "                                    \"linkmode\":\"Link_Mode\",\n",
    "                                    \"dist1\":\"Dist_1\",\n",
    "                                    'dist2':\"Dist_2\",\n",
    "                                    'dist3':\"Dist_3\",\n",
    "                                    'dist4':\"Dist_4\",\n",
    "                                    'dist5':\"Dist_5\",\n",
    "                                    'dist6':\"Dist_6\",\n",
    "                                    'dist7':\"Dist_7\",\n",
    "                                    'mode1':\"Mode_1\",\n",
    "                                    'mode2':\"Mode_2\",\n",
    "                                    'mode3':\"Mode_3\",\n",
    "                                    'mode4':\"Mode_4\",\n",
    "                                    'mode5':\"Mode_5\",\n",
    "                                    'mode6':\"Mode_6\",\n",
    "                                    'mode7':\"Mode_7\",\n",
    "                                    'time1':\"Time_1\",\n",
    "                                    'time2':\"Time_2\",\n",
    "                                    'time3':\"Time_3\",\n",
    "                                    'time4':\"Time_4\",\n",
    "                                    'time5':\"Time_5\",\n",
    "                                    'time6':\"Time_6\",\n",
    "                                    'time7':\"Time_7\"})"
   ]
  },
  {
   "cell_type": "code",
   "execution_count": 21,
   "id": "9f46d445",
   "metadata": {},
   "outputs": [
    {
     "data": {
      "text/plain": [
       "Index(['Trip_ID', 'Person_ID', 'Year', 'Total_Stops', 'Trip_Count',\n",
       "       'Start_Time', 'Arrival_Time', 'Trip_Time', 'Travel_Time', 'Wait_Time',\n",
       "       'Duration', 'Total_Distance', 'Original_Place_1', 'Original_Place_2',\n",
       "       'Original_Purpose_1', 'Original_Purpose_2', 'Destination_1',\n",
       "       'Destination_2', 'Dest_Purpose_1', 'Dest_Purpose_2', 'Starting_LGA',\n",
       "       'Ending_LGA', 'Trip_Purpose', 'Link_Mode', 'Dist_1', 'Dist_2', 'Dist_3',\n",
       "       'Dist_4', 'Dist_5', 'Dist_6', 'Dist_7', 'Mode_1', 'Mode_2', 'Mode_3',\n",
       "       'Mode_4', 'Mode_5', 'Mode_6', 'Mode_7', 'Time_1', 'Time_2', 'Time_3',\n",
       "       'Time_4', 'Time_5', 'Time_6', 'Time_7'],\n",
       "      dtype='object')"
      ]
     },
     "execution_count": 21,
     "metadata": {},
     "output_type": "execute_result"
    }
   ],
   "source": [
    "#Checking columns names have been changed\n",
    "train_df.columns"
   ]
  },
  {
   "cell_type": "code",
   "execution_count": 22,
   "id": "3dd1d522",
   "metadata": {},
   "outputs": [
    {
     "data": {
      "text/html": [
       "<div>\n",
       "<style scoped>\n",
       "    .dataframe tbody tr th:only-of-type {\n",
       "        vertical-align: middle;\n",
       "    }\n",
       "\n",
       "    .dataframe tbody tr th {\n",
       "        vertical-align: top;\n",
       "    }\n",
       "\n",
       "    .dataframe thead th {\n",
       "        text-align: right;\n",
       "    }\n",
       "</style>\n",
       "<table border=\"1\" class=\"dataframe\">\n",
       "  <thead>\n",
       "    <tr style=\"text-align: right;\">\n",
       "      <th></th>\n",
       "      <th>Trip_ID</th>\n",
       "      <th>Person_ID</th>\n",
       "      <th>Year</th>\n",
       "      <th>Total_Stops</th>\n",
       "      <th>Trip_Count</th>\n",
       "      <th>Start_Time</th>\n",
       "      <th>Arrival_Time</th>\n",
       "      <th>Trip_Time</th>\n",
       "      <th>Travel_Time</th>\n",
       "      <th>Wait_Time</th>\n",
       "      <th>...</th>\n",
       "      <th>Mode_5</th>\n",
       "      <th>Mode_6</th>\n",
       "      <th>Mode_7</th>\n",
       "      <th>Time_1</th>\n",
       "      <th>Time_2</th>\n",
       "      <th>Time_3</th>\n",
       "      <th>Time_4</th>\n",
       "      <th>Time_5</th>\n",
       "      <th>Time_6</th>\n",
       "      <th>Time_7</th>\n",
       "    </tr>\n",
       "  </thead>\n",
       "  <tbody>\n",
       "    <tr>\n",
       "      <th>0</th>\n",
       "      <td>Y12H0000101P01T01</td>\n",
       "      <td>Y12H0000101P01</td>\n",
       "      <td>2012</td>\n",
       "      <td>1</td>\n",
       "      <td>1</td>\n",
       "      <td>525</td>\n",
       "      <td>545</td>\n",
       "      <td>20</td>\n",
       "      <td>20</td>\n",
       "      <td>0</td>\n",
       "      <td>...</td>\n",
       "      <td>0</td>\n",
       "      <td>0</td>\n",
       "      <td>0</td>\n",
       "      <td>20</td>\n",
       "      <td>0.0</td>\n",
       "      <td>0.0</td>\n",
       "      <td>0.0</td>\n",
       "      <td>0.0</td>\n",
       "      <td>0.0</td>\n",
       "      <td>0.0</td>\n",
       "    </tr>\n",
       "    <tr>\n",
       "      <th>1</th>\n",
       "      <td>Y12H0000101P01T02</td>\n",
       "      <td>Y12H0000101P01</td>\n",
       "      <td>2012</td>\n",
       "      <td>1</td>\n",
       "      <td>2</td>\n",
       "      <td>1050</td>\n",
       "      <td>1075</td>\n",
       "      <td>25</td>\n",
       "      <td>25</td>\n",
       "      <td>0</td>\n",
       "      <td>...</td>\n",
       "      <td>0</td>\n",
       "      <td>0</td>\n",
       "      <td>0</td>\n",
       "      <td>25</td>\n",
       "      <td>0.0</td>\n",
       "      <td>0.0</td>\n",
       "      <td>0.0</td>\n",
       "      <td>0.0</td>\n",
       "      <td>0.0</td>\n",
       "      <td>0.0</td>\n",
       "    </tr>\n",
       "    <tr>\n",
       "      <th>2</th>\n",
       "      <td>Y12H0000101P02T01</td>\n",
       "      <td>Y12H0000101P02</td>\n",
       "      <td>2012</td>\n",
       "      <td>1</td>\n",
       "      <td>1</td>\n",
       "      <td>500</td>\n",
       "      <td>520</td>\n",
       "      <td>20</td>\n",
       "      <td>20</td>\n",
       "      <td>0</td>\n",
       "      <td>...</td>\n",
       "      <td>0</td>\n",
       "      <td>0</td>\n",
       "      <td>0</td>\n",
       "      <td>20</td>\n",
       "      <td>0.0</td>\n",
       "      <td>0.0</td>\n",
       "      <td>0.0</td>\n",
       "      <td>0.0</td>\n",
       "      <td>0.0</td>\n",
       "      <td>0.0</td>\n",
       "    </tr>\n",
       "    <tr>\n",
       "      <th>3</th>\n",
       "      <td>Y12H0000101P02T02</td>\n",
       "      <td>Y12H0000101P02</td>\n",
       "      <td>2012</td>\n",
       "      <td>1</td>\n",
       "      <td>2</td>\n",
       "      <td>540</td>\n",
       "      <td>550</td>\n",
       "      <td>10</td>\n",
       "      <td>10</td>\n",
       "      <td>0</td>\n",
       "      <td>...</td>\n",
       "      <td>0</td>\n",
       "      <td>0</td>\n",
       "      <td>0</td>\n",
       "      <td>10</td>\n",
       "      <td>0.0</td>\n",
       "      <td>0.0</td>\n",
       "      <td>0.0</td>\n",
       "      <td>0.0</td>\n",
       "      <td>0.0</td>\n",
       "      <td>0.0</td>\n",
       "    </tr>\n",
       "    <tr>\n",
       "      <th>4</th>\n",
       "      <td>Y12H0000101P02T03</td>\n",
       "      <td>Y12H0000101P02</td>\n",
       "      <td>2012</td>\n",
       "      <td>1</td>\n",
       "      <td>3</td>\n",
       "      <td>600</td>\n",
       "      <td>610</td>\n",
       "      <td>10</td>\n",
       "      <td>10</td>\n",
       "      <td>0</td>\n",
       "      <td>...</td>\n",
       "      <td>0</td>\n",
       "      <td>0</td>\n",
       "      <td>0</td>\n",
       "      <td>10</td>\n",
       "      <td>0.0</td>\n",
       "      <td>0.0</td>\n",
       "      <td>0.0</td>\n",
       "      <td>0.0</td>\n",
       "      <td>0.0</td>\n",
       "      <td>0.0</td>\n",
       "    </tr>\n",
       "  </tbody>\n",
       "</table>\n",
       "<p>5 rows × 45 columns</p>\n",
       "</div>"
      ],
      "text/plain": [
       "             Trip_ID       Person_ID  Year  Total_Stops  Trip_Count  \\\n",
       "0  Y12H0000101P01T01  Y12H0000101P01  2012            1           1   \n",
       "1  Y12H0000101P01T02  Y12H0000101P01  2012            1           2   \n",
       "2  Y12H0000101P02T01  Y12H0000101P02  2012            1           1   \n",
       "3  Y12H0000101P02T02  Y12H0000101P02  2012            1           2   \n",
       "4  Y12H0000101P02T03  Y12H0000101P02  2012            1           3   \n",
       "\n",
       "   Start_Time  Arrival_Time  Trip_Time  Travel_Time  Wait_Time  ...  Mode_5  \\\n",
       "0         525           545         20           20          0  ...       0   \n",
       "1        1050          1075         25           25          0  ...       0   \n",
       "2         500           520         20           20          0  ...       0   \n",
       "3         540           550         10           10          0  ...       0   \n",
       "4         600           610         10           10          0  ...       0   \n",
       "\n",
       "   Mode_6 Mode_7 Time_1 Time_2 Time_3 Time_4 Time_5 Time_6 Time_7  \n",
       "0       0      0     20    0.0    0.0    0.0    0.0    0.0    0.0  \n",
       "1       0      0     25    0.0    0.0    0.0    0.0    0.0    0.0  \n",
       "2       0      0     20    0.0    0.0    0.0    0.0    0.0    0.0  \n",
       "3       0      0     10    0.0    0.0    0.0    0.0    0.0    0.0  \n",
       "4       0      0     10    0.0    0.0    0.0    0.0    0.0    0.0  \n",
       "\n",
       "[5 rows x 45 columns]"
      ]
     },
     "execution_count": 22,
     "metadata": {},
     "output_type": "execute_result"
    }
   ],
   "source": [
    "#Displaying dataframe\n",
    "train_df.head()"
   ]
  },
  {
   "cell_type": "code",
   "execution_count": 23,
   "id": "5c553f5c",
   "metadata": {},
   "outputs": [],
   "source": [
    "#Create a csv file for the dataframe\n",
    "train_df.to_csv(\"Resources/VISTA_cleaned.csv\",index=False)"
   ]
  },
  {
   "cell_type": "code",
   "execution_count": null,
   "id": "3398c658",
   "metadata": {},
   "outputs": [],
   "source": []
  }
 ],
 "metadata": {
  "kernelspec": {
   "display_name": "Python 3 (ipykernel)",
   "language": "python",
   "name": "python3"
  },
  "language_info": {
   "codemirror_mode": {
    "name": "ipython",
    "version": 3
   },
   "file_extension": ".py",
   "mimetype": "text/x-python",
   "name": "python",
   "nbconvert_exporter": "python",
   "pygments_lexer": "ipython3",
   "version": "3.9.17"
  }
 },
 "nbformat": 4,
 "nbformat_minor": 5
}
