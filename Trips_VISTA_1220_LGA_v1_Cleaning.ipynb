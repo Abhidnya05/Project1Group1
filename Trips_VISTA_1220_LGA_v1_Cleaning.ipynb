{
 "cells": [
  {
   "cell_type": "code",
   "execution_count": 1,
   "id": "baf578dc",
   "metadata": {},
   "outputs": [],
   "source": [
    "#Importing dependencies \n",
    "import pandas as pd \n",
    "import os \n",
    " \n"
   ]
  },
  {
   "cell_type": "code",
   "execution_count": 2,
   "id": "fd4ff8e7",
   "metadata": {},
   "outputs": [],
   "source": [
    "#Defining path to file\n",
    "file_path = \"/Users/petertram/Desktop/Trips_VISTA_1220_LGA_v1.csv\""
   ]
  },
  {
   "cell_type": "code",
   "execution_count": 3,
   "id": "946072d0",
   "metadata": {},
   "outputs": [
    {
     "data": {
      "text/plain": [
       "True"
      ]
     },
     "execution_count": 3,
     "metadata": {},
     "output_type": "execute_result"
    }
   ],
   "source": [
    "#Checking if the path can be read\n",
    "os.path.isfile(file_path)"
   ]
  },
  {
   "cell_type": "code",
   "execution_count": 4,
   "id": "e1b9d03e",
   "metadata": {},
   "outputs": [],
   "source": [
    "#Reading the csv file.\n",
    "file = pd.read_csv(file_path, low_memory=False)"
   ]
  },
  {
   "cell_type": "code",
   "execution_count": 5,
   "id": "83403486",
   "metadata": {},
   "outputs": [
    {
     "data": {
      "text/plain": [
       "Index(['tripid', 'persid', 'hhid', 'stops', 'tripno', 'starthour', 'startime',\n",
       "       'arrhour', 'arrtime', 'triptime', 'travtime', 'waitime', 'duration',\n",
       "       'cumdist', 'origplace1', 'origplace2', 'origpurp1', 'origpurp2',\n",
       "       'destplace1', 'destplace2', 'destpurp1', 'destpurp2', 'origLGA',\n",
       "       'destLGA', 'trippurp', 'linkmode', 'dist1', 'dist2', 'dist3', 'dist4',\n",
       "       'dist5', 'dist6', 'dist7', 'dist8', 'dist9', 'dist10', 'mode1', 'mode2',\n",
       "       'mode3', 'mode4', 'mode5', 'mode6', 'mode7', 'mode8', 'mode9', 'mode10',\n",
       "       'time1', 'time2', 'time3', 'time4', 'time5', 'time6', 'time7', 'time8',\n",
       "       'time9', 'time10', 'wdtripwgt_LGA', 'wetripwgt_LGA'],\n",
       "      dtype='object')"
      ]
     },
     "execution_count": 5,
     "metadata": {},
     "output_type": "execute_result"
    }
   ],
   "source": [
    "#Checking csv columns names\n",
    "file.head().columns"
   ]
  },
  {
   "cell_type": "code",
   "execution_count": 6,
   "id": "85b1f9af",
   "metadata": {},
   "outputs": [
    {
     "data": {
      "text/html": [
       "<div>\n",
       "<style scoped>\n",
       "    .dataframe tbody tr th:only-of-type {\n",
       "        vertical-align: middle;\n",
       "    }\n",
       "\n",
       "    .dataframe tbody tr th {\n",
       "        vertical-align: top;\n",
       "    }\n",
       "\n",
       "    .dataframe thead th {\n",
       "        text-align: right;\n",
       "    }\n",
       "</style>\n",
       "<table border=\"1\" class=\"dataframe\">\n",
       "  <thead>\n",
       "    <tr style=\"text-align: right;\">\n",
       "      <th></th>\n",
       "      <th>tripid</th>\n",
       "      <th>persid</th>\n",
       "      <th>hhid</th>\n",
       "      <th>stops</th>\n",
       "      <th>tripno</th>\n",
       "      <th>starthour</th>\n",
       "      <th>startime</th>\n",
       "      <th>arrhour</th>\n",
       "      <th>arrtime</th>\n",
       "      <th>triptime</th>\n",
       "      <th>...</th>\n",
       "      <th>time3</th>\n",
       "      <th>time4</th>\n",
       "      <th>time5</th>\n",
       "      <th>time6</th>\n",
       "      <th>time7</th>\n",
       "      <th>time8</th>\n",
       "      <th>time9</th>\n",
       "      <th>time10</th>\n",
       "      <th>wdtripwgt_LGA</th>\n",
       "      <th>wetripwgt_LGA</th>\n",
       "    </tr>\n",
       "  </thead>\n",
       "  <tbody>\n",
       "    <tr>\n",
       "      <th>0</th>\n",
       "      <td>Y12H0000101P01T01</td>\n",
       "      <td>Y12H0000101P01</td>\n",
       "      <td>Y12H0000101</td>\n",
       "      <td>1</td>\n",
       "      <td>1</td>\n",
       "      <td>8</td>\n",
       "      <td>525</td>\n",
       "      <td>9</td>\n",
       "      <td>545</td>\n",
       "      <td>20</td>\n",
       "      <td>...</td>\n",
       "      <td>NaN</td>\n",
       "      <td>NaN</td>\n",
       "      <td>NaN</td>\n",
       "      <td>NaN</td>\n",
       "      <td>NaN</td>\n",
       "      <td>NaN</td>\n",
       "      <td>NaN</td>\n",
       "      <td>NaN</td>\n",
       "      <td>86.36</td>\n",
       "      <td>NaN</td>\n",
       "    </tr>\n",
       "    <tr>\n",
       "      <th>1</th>\n",
       "      <td>Y12H0000101P01T02</td>\n",
       "      <td>Y12H0000101P01</td>\n",
       "      <td>Y12H0000101</td>\n",
       "      <td>1</td>\n",
       "      <td>2</td>\n",
       "      <td>17</td>\n",
       "      <td>1050</td>\n",
       "      <td>17</td>\n",
       "      <td>1075</td>\n",
       "      <td>25</td>\n",
       "      <td>...</td>\n",
       "      <td>NaN</td>\n",
       "      <td>NaN</td>\n",
       "      <td>NaN</td>\n",
       "      <td>NaN</td>\n",
       "      <td>NaN</td>\n",
       "      <td>NaN</td>\n",
       "      <td>NaN</td>\n",
       "      <td>NaN</td>\n",
       "      <td>86.36</td>\n",
       "      <td>NaN</td>\n",
       "    </tr>\n",
       "    <tr>\n",
       "      <th>2</th>\n",
       "      <td>Y12H0000101P02T01</td>\n",
       "      <td>Y12H0000101P02</td>\n",
       "      <td>Y12H0000101</td>\n",
       "      <td>1</td>\n",
       "      <td>1</td>\n",
       "      <td>8</td>\n",
       "      <td>500</td>\n",
       "      <td>8</td>\n",
       "      <td>520</td>\n",
       "      <td>20</td>\n",
       "      <td>...</td>\n",
       "      <td>NaN</td>\n",
       "      <td>NaN</td>\n",
       "      <td>NaN</td>\n",
       "      <td>NaN</td>\n",
       "      <td>NaN</td>\n",
       "      <td>NaN</td>\n",
       "      <td>NaN</td>\n",
       "      <td>NaN</td>\n",
       "      <td>82.69</td>\n",
       "      <td>NaN</td>\n",
       "    </tr>\n",
       "    <tr>\n",
       "      <th>3</th>\n",
       "      <td>Y12H0000101P02T02</td>\n",
       "      <td>Y12H0000101P02</td>\n",
       "      <td>Y12H0000101</td>\n",
       "      <td>1</td>\n",
       "      <td>2</td>\n",
       "      <td>9</td>\n",
       "      <td>540</td>\n",
       "      <td>9</td>\n",
       "      <td>550</td>\n",
       "      <td>10</td>\n",
       "      <td>...</td>\n",
       "      <td>NaN</td>\n",
       "      <td>NaN</td>\n",
       "      <td>NaN</td>\n",
       "      <td>NaN</td>\n",
       "      <td>NaN</td>\n",
       "      <td>NaN</td>\n",
       "      <td>NaN</td>\n",
       "      <td>NaN</td>\n",
       "      <td>82.69</td>\n",
       "      <td>NaN</td>\n",
       "    </tr>\n",
       "    <tr>\n",
       "      <th>4</th>\n",
       "      <td>Y12H0000101P02T03</td>\n",
       "      <td>Y12H0000101P02</td>\n",
       "      <td>Y12H0000101</td>\n",
       "      <td>1</td>\n",
       "      <td>3</td>\n",
       "      <td>10</td>\n",
       "      <td>600</td>\n",
       "      <td>10</td>\n",
       "      <td>610</td>\n",
       "      <td>10</td>\n",
       "      <td>...</td>\n",
       "      <td>NaN</td>\n",
       "      <td>NaN</td>\n",
       "      <td>NaN</td>\n",
       "      <td>NaN</td>\n",
       "      <td>NaN</td>\n",
       "      <td>NaN</td>\n",
       "      <td>NaN</td>\n",
       "      <td>NaN</td>\n",
       "      <td>82.69</td>\n",
       "      <td>NaN</td>\n",
       "    </tr>\n",
       "  </tbody>\n",
       "</table>\n",
       "<p>5 rows × 58 columns</p>\n",
       "</div>"
      ],
      "text/plain": [
       "              tripid          persid         hhid  stops  tripno  starthour  \\\n",
       "0  Y12H0000101P01T01  Y12H0000101P01  Y12H0000101      1       1          8   \n",
       "1  Y12H0000101P01T02  Y12H0000101P01  Y12H0000101      1       2         17   \n",
       "2  Y12H0000101P02T01  Y12H0000101P02  Y12H0000101      1       1          8   \n",
       "3  Y12H0000101P02T02  Y12H0000101P02  Y12H0000101      1       2          9   \n",
       "4  Y12H0000101P02T03  Y12H0000101P02  Y12H0000101      1       3         10   \n",
       "\n",
       "   startime  arrhour  arrtime  triptime  ...  time3  time4  time5  time6  \\\n",
       "0       525        9      545        20  ...    NaN    NaN    NaN    NaN   \n",
       "1      1050       17     1075        25  ...    NaN    NaN    NaN    NaN   \n",
       "2       500        8      520        20  ...    NaN    NaN    NaN    NaN   \n",
       "3       540        9      550        10  ...    NaN    NaN    NaN    NaN   \n",
       "4       600       10      610        10  ...    NaN    NaN    NaN    NaN   \n",
       "\n",
       "  time7 time8 time9 time10 wdtripwgt_LGA wetripwgt_LGA  \n",
       "0   NaN   NaN   NaN    NaN         86.36           NaN  \n",
       "1   NaN   NaN   NaN    NaN         86.36           NaN  \n",
       "2   NaN   NaN   NaN    NaN         82.69           NaN  \n",
       "3   NaN   NaN   NaN    NaN         82.69           NaN  \n",
       "4   NaN   NaN   NaN    NaN         82.69           NaN  \n",
       "\n",
       "[5 rows x 58 columns]"
      ]
     },
     "execution_count": 6,
     "metadata": {},
     "output_type": "execute_result"
    }
   ],
   "source": [
    "#Display file\n",
    "file.head()"
   ]
  },
  {
   "cell_type": "code",
   "execution_count": 7,
   "id": "e58021db",
   "metadata": {},
   "outputs": [
    {
     "data": {
      "text/plain": [
       "Index(['tripid', 'persid', 'hhid', 'stops', 'tripno', 'starthour', 'startime',\n",
       "       'arrhour', 'arrtime', 'triptime', 'travtime', 'waitime', 'duration',\n",
       "       'cumdist', 'origplace1', 'origplace2', 'origpurp1', 'origpurp2',\n",
       "       'destplace1', 'destplace2', 'destpurp1', 'destpurp2', 'origLGA',\n",
       "       'destLGA', 'trippurp', 'linkmode', 'dist1', 'dist2', 'dist3', 'dist4',\n",
       "       'dist5', 'dist6', 'dist7', 'dist8', 'dist9', 'dist10', 'mode1', 'mode2',\n",
       "       'mode3', 'mode4', 'mode5', 'mode6', 'mode7', 'mode8', 'mode9', 'mode10',\n",
       "       'time1', 'time2', 'time3', 'time4', 'time5', 'time6', 'time7', 'time8',\n",
       "       'time9', 'time10', 'wdtripwgt_LGA', 'wetripwgt_LGA'],\n",
       "      dtype='object')"
      ]
     },
     "execution_count": 7,
     "metadata": {},
     "output_type": "execute_result"
    }
   ],
   "source": [
    "#Rechecking columns\n",
    "file.head().columns"
   ]
  },
  {
   "cell_type": "code",
   "execution_count": 8,
   "id": "1048a1ae",
   "metadata": {},
   "outputs": [],
   "source": [
    "#We want only the rows where a train was used in mode 1 - 10\n",
    "train_df = file.loc[(file['mode1'] == 'Train') | (file['mode2'] == 'Train') |\n",
    "                   (file['mode3'] == 'Train') | (file['mode4'] == 'Train') |\n",
    "                   (file['mode5'] == 'Train') | (file['mode6'] == 'Train') |\n",
    "                   (file['mode7'] == 'Train') | (file['mode8'] == 'Train') |\n",
    "                   (file['mode9'] == 'Train') | (file['mode10'] == 'Train')]"
   ]
  },
  {
   "cell_type": "code",
   "execution_count": 9,
   "id": "949bb81e",
   "metadata": {},
   "outputs": [
    {
     "name": "stdout",
     "output_type": "stream",
     "text": [
      "The original dataset contained 206268 rows. \n",
      "We have cut the dataset down to 8758 rows\n"
     ]
    }
   ],
   "source": [
    "#Checking rows of train_df\n",
    "print(f\"The original dataset contained {len(file)} rows. \\nWe have cut the dataset down to {len(train_df)} rows\")"
   ]
  },
  {
   "cell_type": "code",
   "execution_count": 10,
   "id": "8e04e800",
   "metadata": {},
   "outputs": [
    {
     "data": {
      "text/html": [
       "<div>\n",
       "<style scoped>\n",
       "    .dataframe tbody tr th:only-of-type {\n",
       "        vertical-align: middle;\n",
       "    }\n",
       "\n",
       "    .dataframe tbody tr th {\n",
       "        vertical-align: top;\n",
       "    }\n",
       "\n",
       "    .dataframe thead th {\n",
       "        text-align: right;\n",
       "    }\n",
       "</style>\n",
       "<table border=\"1\" class=\"dataframe\">\n",
       "  <thead>\n",
       "    <tr style=\"text-align: right;\">\n",
       "      <th></th>\n",
       "      <th>tripid</th>\n",
       "      <th>persid</th>\n",
       "      <th>hhid</th>\n",
       "      <th>stops</th>\n",
       "      <th>tripno</th>\n",
       "      <th>starthour</th>\n",
       "      <th>startime</th>\n",
       "      <th>arrhour</th>\n",
       "      <th>arrtime</th>\n",
       "      <th>triptime</th>\n",
       "      <th>...</th>\n",
       "      <th>time3</th>\n",
       "      <th>time4</th>\n",
       "      <th>time5</th>\n",
       "      <th>time6</th>\n",
       "      <th>time7</th>\n",
       "      <th>time8</th>\n",
       "      <th>time9</th>\n",
       "      <th>time10</th>\n",
       "      <th>wdtripwgt_LGA</th>\n",
       "      <th>wetripwgt_LGA</th>\n",
       "    </tr>\n",
       "  </thead>\n",
       "  <tbody>\n",
       "    <tr>\n",
       "      <th>16</th>\n",
       "      <td>Y12H0000102P03T01</td>\n",
       "      <td>Y12H0000102P03</td>\n",
       "      <td>Y12H0000102</td>\n",
       "      <td>3</td>\n",
       "      <td>1</td>\n",
       "      <td>8</td>\n",
       "      <td>510</td>\n",
       "      <td>9</td>\n",
       "      <td>580</td>\n",
       "      <td>70</td>\n",
       "      <td>...</td>\n",
       "      <td>10.0</td>\n",
       "      <td>NaN</td>\n",
       "      <td>NaN</td>\n",
       "      <td>NaN</td>\n",
       "      <td>NaN</td>\n",
       "      <td>NaN</td>\n",
       "      <td>NaN</td>\n",
       "      <td>NaN</td>\n",
       "      <td>146.94</td>\n",
       "      <td>NaN</td>\n",
       "    </tr>\n",
       "    <tr>\n",
       "      <th>17</th>\n",
       "      <td>Y12H0000102P03T02</td>\n",
       "      <td>Y12H0000102P03</td>\n",
       "      <td>Y12H0000102</td>\n",
       "      <td>3</td>\n",
       "      <td>2</td>\n",
       "      <td>17</td>\n",
       "      <td>1050</td>\n",
       "      <td>18</td>\n",
       "      <td>1120</td>\n",
       "      <td>70</td>\n",
       "      <td>...</td>\n",
       "      <td>10.0</td>\n",
       "      <td>NaN</td>\n",
       "      <td>NaN</td>\n",
       "      <td>NaN</td>\n",
       "      <td>NaN</td>\n",
       "      <td>NaN</td>\n",
       "      <td>NaN</td>\n",
       "      <td>NaN</td>\n",
       "      <td>146.94</td>\n",
       "      <td>NaN</td>\n",
       "    </tr>\n",
       "    <tr>\n",
       "      <th>28</th>\n",
       "      <td>Y12H0000103P03T02</td>\n",
       "      <td>Y12H0000103P03</td>\n",
       "      <td>Y12H0000103</td>\n",
       "      <td>3</td>\n",
       "      <td>2</td>\n",
       "      <td>15</td>\n",
       "      <td>920</td>\n",
       "      <td>15</td>\n",
       "      <td>950</td>\n",
       "      <td>30</td>\n",
       "      <td>...</td>\n",
       "      <td>15.0</td>\n",
       "      <td>NaN</td>\n",
       "      <td>NaN</td>\n",
       "      <td>NaN</td>\n",
       "      <td>NaN</td>\n",
       "      <td>NaN</td>\n",
       "      <td>NaN</td>\n",
       "      <td>NaN</td>\n",
       "      <td>93.64</td>\n",
       "      <td>NaN</td>\n",
       "    </tr>\n",
       "    <tr>\n",
       "      <th>30</th>\n",
       "      <td>Y12H0000103P04T02</td>\n",
       "      <td>Y12H0000103P04</td>\n",
       "      <td>Y12H0000103</td>\n",
       "      <td>3</td>\n",
       "      <td>2</td>\n",
       "      <td>15</td>\n",
       "      <td>920</td>\n",
       "      <td>15</td>\n",
       "      <td>950</td>\n",
       "      <td>30</td>\n",
       "      <td>...</td>\n",
       "      <td>15.0</td>\n",
       "      <td>NaN</td>\n",
       "      <td>NaN</td>\n",
       "      <td>NaN</td>\n",
       "      <td>NaN</td>\n",
       "      <td>NaN</td>\n",
       "      <td>NaN</td>\n",
       "      <td>NaN</td>\n",
       "      <td>93.64</td>\n",
       "      <td>NaN</td>\n",
       "    </tr>\n",
       "    <tr>\n",
       "      <th>272</th>\n",
       "      <td>Y12H0000303P01T01</td>\n",
       "      <td>Y12H0000303P01</td>\n",
       "      <td>Y12H0000303</td>\n",
       "      <td>3</td>\n",
       "      <td>1</td>\n",
       "      <td>7</td>\n",
       "      <td>430</td>\n",
       "      <td>7</td>\n",
       "      <td>460</td>\n",
       "      <td>30</td>\n",
       "      <td>...</td>\n",
       "      <td>5.0</td>\n",
       "      <td>NaN</td>\n",
       "      <td>NaN</td>\n",
       "      <td>NaN</td>\n",
       "      <td>NaN</td>\n",
       "      <td>NaN</td>\n",
       "      <td>NaN</td>\n",
       "      <td>NaN</td>\n",
       "      <td>55.91</td>\n",
       "      <td>NaN</td>\n",
       "    </tr>\n",
       "  </tbody>\n",
       "</table>\n",
       "<p>5 rows × 58 columns</p>\n",
       "</div>"
      ],
      "text/plain": [
       "                tripid          persid         hhid  stops  tripno  starthour  \\\n",
       "16   Y12H0000102P03T01  Y12H0000102P03  Y12H0000102      3       1          8   \n",
       "17   Y12H0000102P03T02  Y12H0000102P03  Y12H0000102      3       2         17   \n",
       "28   Y12H0000103P03T02  Y12H0000103P03  Y12H0000103      3       2         15   \n",
       "30   Y12H0000103P04T02  Y12H0000103P04  Y12H0000103      3       2         15   \n",
       "272  Y12H0000303P01T01  Y12H0000303P01  Y12H0000303      3       1          7   \n",
       "\n",
       "     startime  arrhour  arrtime  triptime  ...  time3  time4  time5  time6  \\\n",
       "16        510        9      580        70  ...   10.0    NaN    NaN    NaN   \n",
       "17       1050       18     1120        70  ...   10.0    NaN    NaN    NaN   \n",
       "28        920       15      950        30  ...   15.0    NaN    NaN    NaN   \n",
       "30        920       15      950        30  ...   15.0    NaN    NaN    NaN   \n",
       "272       430        7      460        30  ...    5.0    NaN    NaN    NaN   \n",
       "\n",
       "    time7 time8 time9 time10 wdtripwgt_LGA wetripwgt_LGA  \n",
       "16    NaN   NaN   NaN    NaN        146.94           NaN  \n",
       "17    NaN   NaN   NaN    NaN        146.94           NaN  \n",
       "28    NaN   NaN   NaN    NaN         93.64           NaN  \n",
       "30    NaN   NaN   NaN    NaN         93.64           NaN  \n",
       "272   NaN   NaN   NaN    NaN         55.91           NaN  \n",
       "\n",
       "[5 rows x 58 columns]"
      ]
     },
     "execution_count": 10,
     "metadata": {},
     "output_type": "execute_result"
    }
   ],
   "source": [
    "#Displaying train_df Table\n",
    "train_df.head()"
   ]
  },
  {
   "cell_type": "code",
   "execution_count": 11,
   "id": "db28eb40",
   "metadata": {},
   "outputs": [
    {
     "data": {
      "text/plain": [
       "Index(['tripid', 'persid', 'hhid', 'stops', 'tripno', 'starthour', 'startime',\n",
       "       'arrhour', 'arrtime', 'triptime', 'travtime', 'waitime', 'duration',\n",
       "       'cumdist', 'origplace1', 'origplace2', 'origpurp1', 'origpurp2',\n",
       "       'destplace1', 'destplace2', 'destpurp1', 'destpurp2', 'origLGA',\n",
       "       'destLGA', 'trippurp', 'linkmode', 'dist1', 'dist2', 'dist3', 'dist4',\n",
       "       'dist5', 'dist6', 'dist7', 'dist8', 'dist9', 'dist10', 'mode1', 'mode2',\n",
       "       'mode3', 'mode4', 'mode5', 'mode6', 'mode7', 'mode8', 'mode9', 'mode10',\n",
       "       'time1', 'time2', 'time3', 'time4', 'time5', 'time6', 'time7', 'time8',\n",
       "       'time9', 'time10', 'wdtripwgt_LGA', 'wetripwgt_LGA'],\n",
       "      dtype='object')"
      ]
     },
     "execution_count": 11,
     "metadata": {},
     "output_type": "execute_result"
    }
   ],
   "source": [
    "#Looking at removing certain columns\n",
    "train_df.head().columns"
   ]
  },
  {
   "cell_type": "code",
   "execution_count": 12,
   "id": "9d68cebf",
   "metadata": {},
   "outputs": [
    {
     "data": {
      "text/plain": [
       "Index(['tripid', 'persid', 'hhid', 'stops', 'tripno', 'startime', 'arrtime',\n",
       "       'triptime', 'travtime', 'waitime', 'duration', 'cumdist', 'origplace1',\n",
       "       'origplace2', 'origpurp1', 'origpurp2', 'destplace1', 'destplace2',\n",
       "       'destpurp1', 'destpurp2', 'origLGA', 'destLGA', 'trippurp', 'linkmode',\n",
       "       'dist1', 'dist2', 'dist3', 'dist4', 'dist5', 'dist6', 'dist7', 'dist8',\n",
       "       'dist9', 'dist10', 'mode1', 'mode2', 'mode3', 'mode4', 'mode5', 'mode6',\n",
       "       'mode7', 'mode8', 'mode9', 'mode10', 'time1', 'time2', 'time3', 'time4',\n",
       "       'time5', 'time6', 'time7', 'time8', 'time9', 'time10'],\n",
       "      dtype='object')"
      ]
     },
     "execution_count": 12,
     "metadata": {},
     "output_type": "execute_result"
    }
   ],
   "source": [
    "#Delete useless columns \n",
    "del train_df['wdtripwgt_LGA']\n",
    "del train_df['wetripwgt_LGA']\n",
    "del train_df['starthour']\n",
    "del train_df['arrhour']\n",
    "\n",
    "train_df.head().columns"
   ]
  },
  {
   "cell_type": "code",
   "execution_count": 13,
   "id": "c4a7649a",
   "metadata": {},
   "outputs": [
    {
     "data": {
      "text/plain": [
       "array(['Vehicle Passenger', 'Walking', 'Bicycle', 'Vehicle Driver',\n",
       "       'Train', 'Other', 'Public Bus', 'Taxi', 'School Bus', 'Motorcycle',\n",
       "       'Jogging', 'Tram'], dtype=object)"
      ]
     },
     "execution_count": 13,
     "metadata": {},
     "output_type": "execute_result"
    }
   ],
   "source": [
    "train_df['mode1'].unique()"
   ]
  },
  {
   "cell_type": "code",
   "execution_count": 14,
   "id": "3c8646d0",
   "metadata": {},
   "outputs": [
    {
     "data": {
      "text/plain": [
       "True"
      ]
     },
     "execution_count": 14,
     "metadata": {},
     "output_type": "execute_result"
    }
   ],
   "source": [
    "train_df.loc[train_df['mode7']=='Train'].any().any()"
   ]
  },
  {
   "cell_type": "code",
   "execution_count": 15,
   "id": "da21b2de",
   "metadata": {},
   "outputs": [
    {
     "name": "stdout",
     "output_type": "stream",
     "text": [
      "Mode1 contains train values\n",
      "Mode2 contains train values\n",
      "Mode3 contains train values\n",
      "Mode4 contains train values\n",
      "Mode5 contains train values\n",
      "Mode6 contains train values\n",
      "Mode7 contains train values\n",
      "Mode8 Does not contain train values\n",
      "Mode9 Does not contain train values\n",
      "Mode10 Does not contain train values\n"
     ]
    }
   ],
   "source": [
    "#Checking mode value to see which actually contain 'Trains'\n",
    "for i in range(1,11,1):\n",
    "    #If values in mode column does not contain any 'Train' values, delete that column\n",
    "    if (train_df.loc[train_df['mode' +str(i)] == 'Train'].any().any()) == False:\n",
    "        del train_df['mode'+str(i)]\n",
    "        #Also delete Time and Distance column assoicated with it\n",
    "        del train_df['time'+str(i)]\n",
    "        del train_df['dist'+str(i)]\n",
    "        print(f\"Mode{i} Does not contain train values\")\n",
    "    else:\n",
    "        print(f\"Mode{i} contains train values\")\n"
   ]
  },
  {
   "cell_type": "code",
   "execution_count": 16,
   "id": "0dc6c4fe",
   "metadata": {},
   "outputs": [
    {
     "data": {
      "text/plain": [
       "Index(['tripid', 'persid', 'hhid', 'stops', 'tripno', 'startime', 'arrtime',\n",
       "       'triptime', 'travtime', 'waitime', 'duration', 'cumdist', 'origplace1',\n",
       "       'origplace2', 'origpurp1', 'origpurp2', 'destplace1', 'destplace2',\n",
       "       'destpurp1', 'destpurp2', 'origLGA', 'destLGA', 'trippurp', 'linkmode',\n",
       "       'dist1', 'dist2', 'dist3', 'dist4', 'dist5', 'dist6', 'dist7', 'mode1',\n",
       "       'mode2', 'mode3', 'mode4', 'mode5', 'mode6', 'mode7', 'time1', 'time2',\n",
       "       'time3', 'time4', 'time5', 'time6', 'time7'],\n",
       "      dtype='object')"
      ]
     },
     "execution_count": 16,
     "metadata": {},
     "output_type": "execute_result"
    }
   ],
   "source": [
    "train_df.head().columns"
   ]
  },
  {
   "cell_type": "code",
   "execution_count": 17,
   "id": "671ca609",
   "metadata": {},
   "outputs": [],
   "source": [
    "#Extract year from trip id \n",
    "year = []\n",
    "for i in range(len(train_df)):\n",
    "    year.append(\"20\" + train_df['tripid'].iloc[1][1:3])"
   ]
  },
  {
   "cell_type": "code",
   "execution_count": 18,
   "id": "fd013910",
   "metadata": {},
   "outputs": [],
   "source": [
    "train_df.insert(loc = 3,\n",
    "               column = 'Year',\n",
    "               value = year)"
   ]
  },
  {
   "cell_type": "code",
   "execution_count": 21,
   "id": "cbfc1f61",
   "metadata": {},
   "outputs": [
    {
     "data": {
      "text/plain": [
       "Index(['tripid', 'persid', 'hhid', 'Year', 'stops', 'tripno', 'startime',\n",
       "       'arrtime', 'triptime', 'travtime', 'waitime', 'duration', 'cumdist',\n",
       "       'origplace1', 'origplace2', 'origpurp1', 'origpurp2', 'destplace1',\n",
       "       'destplace2', 'destpurp1', 'destpurp2', 'origLGA', 'destLGA',\n",
       "       'trippurp', 'linkmode', 'dist1', 'dist2', 'dist3', 'dist4', 'dist5',\n",
       "       'dist6', 'dist7', 'mode1', 'mode2', 'mode3', 'mode4', 'mode5', 'mode6',\n",
       "       'mode7', 'time1', 'time2', 'time3', 'time4', 'time5', 'time6', 'time7'],\n",
       "      dtype='object')"
      ]
     },
     "execution_count": 21,
     "metadata": {},
     "output_type": "execute_result"
    }
   ],
   "source": [
    "train_df.head().columns"
   ]
  },
  {
   "cell_type": "code",
   "execution_count": null,
   "id": "34eb602b",
   "metadata": {},
   "outputs": [],
   "source": []
  }
 ],
 "metadata": {
  "kernelspec": {
   "display_name": "Python 3 (ipykernel)",
   "language": "python",
   "name": "python3"
  },
  "language_info": {
   "codemirror_mode": {
    "name": "ipython",
    "version": 3
   },
   "file_extension": ".py",
   "mimetype": "text/x-python",
   "name": "python",
   "nbconvert_exporter": "python",
   "pygments_lexer": "ipython3",
   "version": "3.9.17"
  }
 },
 "nbformat": 4,
 "nbformat_minor": 5
}
