{
 "cells": [
  {
   "cell_type": "code",
   "execution_count": 1,
   "id": "1a010218",
   "metadata": {},
   "outputs": [],
   "source": [
    "#Importing dependencies \n",
    "import pandas as pd\n",
    "import os \n",
    "import pprint\n",
    "import numpy as np\n",
    "import matplotlib.pyplot as plt"
   ]
  },
  {
   "cell_type": "code",
   "execution_count": 2,
   "id": "0d00e624",
   "metadata": {},
   "outputs": [
    {
     "name": "stderr",
     "output_type": "stream",
     "text": [
      "/var/folders/zh/1g9r_87s0_b2prpx9v3501kr0000gn/T/ipykernel_82070/966131605.py:3: DtypeWarning: Columns (37) have mixed types. Specify dtype option on import or set low_memory=False.\n",
      "  Vista = pd.read_csv(path)\n"
     ]
    }
   ],
   "source": [
    "#Importing csv from Resources \n",
    "path = 'Resources/VISTA_cleaned.csv'\n",
    "Vista = pd.read_csv(path)\n",
    "\n",
    "city_line_path = 'Resources/Station_line _map.csv'\n",
    "City_line = pd.read_csv(city_line_path)"
   ]
  },
  {
   "cell_type": "code",
   "execution_count": 3,
   "id": "8b924cd1",
   "metadata": {},
   "outputs": [
    {
     "data": {
      "text/html": [
       "<div>\n",
       "<style scoped>\n",
       "    .dataframe tbody tr th:only-of-type {\n",
       "        vertical-align: middle;\n",
       "    }\n",
       "\n",
       "    .dataframe tbody tr th {\n",
       "        vertical-align: top;\n",
       "    }\n",
       "\n",
       "    .dataframe thead th {\n",
       "        text-align: right;\n",
       "    }\n",
       "</style>\n",
       "<table border=\"1\" class=\"dataframe\">\n",
       "  <thead>\n",
       "    <tr style=\"text-align: right;\">\n",
       "      <th></th>\n",
       "      <th>Zone</th>\n",
       "      <th>Line name</th>\n",
       "      <th>Station</th>\n",
       "      <th>City council</th>\n",
       "    </tr>\n",
       "  </thead>\n",
       "  <tbody>\n",
       "    <tr>\n",
       "      <th>0</th>\n",
       "      <td>2</td>\n",
       "      <td>Sunbury line</td>\n",
       "      <td>Sunbury</td>\n",
       "      <td>Hume C</td>\n",
       "    </tr>\n",
       "    <tr>\n",
       "      <th>1</th>\n",
       "      <td>2</td>\n",
       "      <td>Sunbury line</td>\n",
       "      <td>Diggers Rest</td>\n",
       "      <td>Hume C</td>\n",
       "    </tr>\n",
       "    <tr>\n",
       "      <th>2</th>\n",
       "      <td>2</td>\n",
       "      <td>Sunbury line</td>\n",
       "      <td>Watergardens</td>\n",
       "      <td>Brimbank C</td>\n",
       "    </tr>\n",
       "    <tr>\n",
       "      <th>3</th>\n",
       "      <td>2</td>\n",
       "      <td>Sunbury line</td>\n",
       "      <td>Keilor Plains</td>\n",
       "      <td>Brimbank C</td>\n",
       "    </tr>\n",
       "    <tr>\n",
       "      <th>4</th>\n",
       "      <td>2</td>\n",
       "      <td>Sunbury line</td>\n",
       "      <td>St Albans</td>\n",
       "      <td>Brimbank C</td>\n",
       "    </tr>\n",
       "    <tr>\n",
       "      <th>...</th>\n",
       "      <td>...</td>\n",
       "      <td>...</td>\n",
       "      <td>...</td>\n",
       "      <td>...</td>\n",
       "    </tr>\n",
       "    <tr>\n",
       "      <th>359</th>\n",
       "      <td>1</td>\n",
       "      <td>Williamstown line</td>\n",
       "      <td>Flagstaff</td>\n",
       "      <td>Melbourne C</td>\n",
       "    </tr>\n",
       "    <tr>\n",
       "      <th>360</th>\n",
       "      <td>1</td>\n",
       "      <td>Williamstown line</td>\n",
       "      <td>Melbourne Central</td>\n",
       "      <td>Melbourne C</td>\n",
       "    </tr>\n",
       "    <tr>\n",
       "      <th>361</th>\n",
       "      <td>1</td>\n",
       "      <td>Williamstown line</td>\n",
       "      <td>Parliament</td>\n",
       "      <td>Melbourne C</td>\n",
       "    </tr>\n",
       "    <tr>\n",
       "      <th>362</th>\n",
       "      <td>1</td>\n",
       "      <td>Williamstown line</td>\n",
       "      <td>Southern Cross</td>\n",
       "      <td>Melbourne C</td>\n",
       "    </tr>\n",
       "    <tr>\n",
       "      <th>363</th>\n",
       "      <td>1</td>\n",
       "      <td>Williamstown line</td>\n",
       "      <td>Flinders Street</td>\n",
       "      <td>Melbourne C</td>\n",
       "    </tr>\n",
       "  </tbody>\n",
       "</table>\n",
       "<p>364 rows × 4 columns</p>\n",
       "</div>"
      ],
      "text/plain": [
       "    Zone         Line name             Station   City council\n",
       "0      2       Sunbury line            Sunbury       Hume C  \n",
       "1      2       Sunbury line       Diggers Rest       Hume C  \n",
       "2      2       Sunbury line       Watergardens   Brimbank C  \n",
       "3      2       Sunbury line      Keilor Plains   Brimbank C  \n",
       "4      2       Sunbury line          St Albans   Brimbank C  \n",
       "..   ...                ...                ...            ...\n",
       "359    1  Williamstown line          Flagstaff  Melbourne C  \n",
       "360    1  Williamstown line  Melbourne Central  Melbourne C  \n",
       "361    1  Williamstown line         Parliament  Melbourne C  \n",
       "362    1  Williamstown line     Southern Cross  Melbourne C  \n",
       "363    1  Williamstown line    Flinders Street  Melbourne C  \n",
       "\n",
       "[364 rows x 4 columns]"
      ]
     },
     "execution_count": 3,
     "metadata": {},
     "output_type": "execute_result"
    }
   ],
   "source": [
    "City_line"
   ]
  },
  {
   "cell_type": "code",
   "execution_count": 4,
   "id": "cd962b96",
   "metadata": {},
   "outputs": [
    {
     "data": {
      "text/html": [
       "<div>\n",
       "<style scoped>\n",
       "    .dataframe tbody tr th:only-of-type {\n",
       "        vertical-align: middle;\n",
       "    }\n",
       "\n",
       "    .dataframe tbody tr th {\n",
       "        vertical-align: top;\n",
       "    }\n",
       "\n",
       "    .dataframe thead th {\n",
       "        text-align: right;\n",
       "    }\n",
       "</style>\n",
       "<table border=\"1\" class=\"dataframe\">\n",
       "  <thead>\n",
       "    <tr style=\"text-align: right;\">\n",
       "      <th></th>\n",
       "      <th>Trip_ID</th>\n",
       "      <th>Person_ID</th>\n",
       "      <th>Year</th>\n",
       "      <th>Total_Stops</th>\n",
       "      <th>Trip_Count</th>\n",
       "      <th>Start_Time</th>\n",
       "      <th>Arrival_Time</th>\n",
       "      <th>Trip_Time</th>\n",
       "      <th>Travel_Time</th>\n",
       "      <th>Wait_Time</th>\n",
       "      <th>...</th>\n",
       "      <th>Mode_5</th>\n",
       "      <th>Mode_6</th>\n",
       "      <th>Mode_7</th>\n",
       "      <th>Time_1</th>\n",
       "      <th>Time_2</th>\n",
       "      <th>Time_3</th>\n",
       "      <th>Time_4</th>\n",
       "      <th>Time_5</th>\n",
       "      <th>Time_6</th>\n",
       "      <th>Time_7</th>\n",
       "    </tr>\n",
       "  </thead>\n",
       "  <tbody>\n",
       "    <tr>\n",
       "      <th>0</th>\n",
       "      <td>Y12H0000101P01T01</td>\n",
       "      <td>Y12H0000101P01</td>\n",
       "      <td>2012.0</td>\n",
       "      <td>1.0</td>\n",
       "      <td>1.0</td>\n",
       "      <td>525.0</td>\n",
       "      <td>545.0</td>\n",
       "      <td>20.0</td>\n",
       "      <td>20.0</td>\n",
       "      <td>0.0</td>\n",
       "      <td>...</td>\n",
       "      <td>0</td>\n",
       "      <td>0</td>\n",
       "      <td>0</td>\n",
       "      <td>20.0</td>\n",
       "      <td>0.0</td>\n",
       "      <td>0.0</td>\n",
       "      <td>0.0</td>\n",
       "      <td>0.0</td>\n",
       "      <td>0.0</td>\n",
       "      <td>0.0</td>\n",
       "    </tr>\n",
       "    <tr>\n",
       "      <th>1</th>\n",
       "      <td>Y12H0000101P01T02</td>\n",
       "      <td>Y12H0000101P01</td>\n",
       "      <td>2012.0</td>\n",
       "      <td>1.0</td>\n",
       "      <td>2.0</td>\n",
       "      <td>1050.0</td>\n",
       "      <td>1075.0</td>\n",
       "      <td>25.0</td>\n",
       "      <td>25.0</td>\n",
       "      <td>0.0</td>\n",
       "      <td>...</td>\n",
       "      <td>0</td>\n",
       "      <td>0</td>\n",
       "      <td>0</td>\n",
       "      <td>25.0</td>\n",
       "      <td>0.0</td>\n",
       "      <td>0.0</td>\n",
       "      <td>0.0</td>\n",
       "      <td>0.0</td>\n",
       "      <td>0.0</td>\n",
       "      <td>0.0</td>\n",
       "    </tr>\n",
       "    <tr>\n",
       "      <th>2</th>\n",
       "      <td>Y12H0000101P02T01</td>\n",
       "      <td>Y12H0000101P02</td>\n",
       "      <td>2012.0</td>\n",
       "      <td>1.0</td>\n",
       "      <td>1.0</td>\n",
       "      <td>500.0</td>\n",
       "      <td>520.0</td>\n",
       "      <td>20.0</td>\n",
       "      <td>20.0</td>\n",
       "      <td>0.0</td>\n",
       "      <td>...</td>\n",
       "      <td>0</td>\n",
       "      <td>0</td>\n",
       "      <td>0</td>\n",
       "      <td>20.0</td>\n",
       "      <td>0.0</td>\n",
       "      <td>0.0</td>\n",
       "      <td>0.0</td>\n",
       "      <td>0.0</td>\n",
       "      <td>0.0</td>\n",
       "      <td>0.0</td>\n",
       "    </tr>\n",
       "    <tr>\n",
       "      <th>3</th>\n",
       "      <td>Y12H0000101P02T02</td>\n",
       "      <td>Y12H0000101P02</td>\n",
       "      <td>2012.0</td>\n",
       "      <td>1.0</td>\n",
       "      <td>2.0</td>\n",
       "      <td>540.0</td>\n",
       "      <td>550.0</td>\n",
       "      <td>10.0</td>\n",
       "      <td>10.0</td>\n",
       "      <td>0.0</td>\n",
       "      <td>...</td>\n",
       "      <td>0</td>\n",
       "      <td>0</td>\n",
       "      <td>0</td>\n",
       "      <td>10.0</td>\n",
       "      <td>0.0</td>\n",
       "      <td>0.0</td>\n",
       "      <td>0.0</td>\n",
       "      <td>0.0</td>\n",
       "      <td>0.0</td>\n",
       "      <td>0.0</td>\n",
       "    </tr>\n",
       "    <tr>\n",
       "      <th>4</th>\n",
       "      <td>Y12H0000101P02T03</td>\n",
       "      <td>Y12H0000101P02</td>\n",
       "      <td>2012.0</td>\n",
       "      <td>1.0</td>\n",
       "      <td>3.0</td>\n",
       "      <td>600.0</td>\n",
       "      <td>610.0</td>\n",
       "      <td>10.0</td>\n",
       "      <td>10.0</td>\n",
       "      <td>0.0</td>\n",
       "      <td>...</td>\n",
       "      <td>0</td>\n",
       "      <td>0</td>\n",
       "      <td>0</td>\n",
       "      <td>10.0</td>\n",
       "      <td>0.0</td>\n",
       "      <td>0.0</td>\n",
       "      <td>0.0</td>\n",
       "      <td>0.0</td>\n",
       "      <td>0.0</td>\n",
       "      <td>0.0</td>\n",
       "    </tr>\n",
       "    <tr>\n",
       "      <th>...</th>\n",
       "      <td>...</td>\n",
       "      <td>...</td>\n",
       "      <td>...</td>\n",
       "      <td>...</td>\n",
       "      <td>...</td>\n",
       "      <td>...</td>\n",
       "      <td>...</td>\n",
       "      <td>...</td>\n",
       "      <td>...</td>\n",
       "      <td>...</td>\n",
       "      <td>...</td>\n",
       "      <td>...</td>\n",
       "      <td>...</td>\n",
       "      <td>...</td>\n",
       "      <td>...</td>\n",
       "      <td>...</td>\n",
       "      <td>...</td>\n",
       "      <td>...</td>\n",
       "      <td>...</td>\n",
       "      <td>...</td>\n",
       "      <td>...</td>\n",
       "    </tr>\n",
       "    <tr>\n",
       "      <th>207742</th>\n",
       "      <td>Y20H4001029P02T01</td>\n",
       "      <td>Y20H4001029P02</td>\n",
       "      <td>2020.0</td>\n",
       "      <td>1.0</td>\n",
       "      <td>1.0</td>\n",
       "      <td>600.0</td>\n",
       "      <td>620.0</td>\n",
       "      <td>20.0</td>\n",
       "      <td>20.0</td>\n",
       "      <td>0.0</td>\n",
       "      <td>...</td>\n",
       "      <td>0</td>\n",
       "      <td>0</td>\n",
       "      <td>0</td>\n",
       "      <td>20.0</td>\n",
       "      <td>0.0</td>\n",
       "      <td>0.0</td>\n",
       "      <td>0.0</td>\n",
       "      <td>0.0</td>\n",
       "      <td>0.0</td>\n",
       "      <td>0.0</td>\n",
       "    </tr>\n",
       "    <tr>\n",
       "      <th>207743</th>\n",
       "      <td>Y20H4001029P02T02</td>\n",
       "      <td>Y20H4001029P02</td>\n",
       "      <td>2020.0</td>\n",
       "      <td>1.0</td>\n",
       "      <td>2.0</td>\n",
       "      <td>625.0</td>\n",
       "      <td>640.0</td>\n",
       "      <td>15.0</td>\n",
       "      <td>15.0</td>\n",
       "      <td>0.0</td>\n",
       "      <td>...</td>\n",
       "      <td>0</td>\n",
       "      <td>0</td>\n",
       "      <td>0</td>\n",
       "      <td>15.0</td>\n",
       "      <td>0.0</td>\n",
       "      <td>0.0</td>\n",
       "      <td>0.0</td>\n",
       "      <td>0.0</td>\n",
       "      <td>0.0</td>\n",
       "      <td>0.0</td>\n",
       "    </tr>\n",
       "    <tr>\n",
       "      <th>207744</th>\n",
       "      <td>Y20H4001039P01T01</td>\n",
       "      <td>Y20H4001039P01</td>\n",
       "      <td>2020.0</td>\n",
       "      <td>1.0</td>\n",
       "      <td>1.0</td>\n",
       "      <td>540.0</td>\n",
       "      <td>550.0</td>\n",
       "      <td>10.0</td>\n",
       "      <td>10.0</td>\n",
       "      <td>0.0</td>\n",
       "      <td>...</td>\n",
       "      <td>0</td>\n",
       "      <td>0</td>\n",
       "      <td>0</td>\n",
       "      <td>10.0</td>\n",
       "      <td>0.0</td>\n",
       "      <td>0.0</td>\n",
       "      <td>0.0</td>\n",
       "      <td>0.0</td>\n",
       "      <td>0.0</td>\n",
       "      <td>0.0</td>\n",
       "    </tr>\n",
       "    <tr>\n",
       "      <th>207745</th>\n",
       "      <td>Y20H4001039P01T02</td>\n",
       "      <td>Y20H4001039P01</td>\n",
       "      <td>2020.0</td>\n",
       "      <td>1.0</td>\n",
       "      <td>2.0</td>\n",
       "      <td>590.0</td>\n",
       "      <td>650.0</td>\n",
       "      <td>60.0</td>\n",
       "      <td>60.0</td>\n",
       "      <td>0.0</td>\n",
       "      <td>...</td>\n",
       "      <td>0</td>\n",
       "      <td>0</td>\n",
       "      <td>0</td>\n",
       "      <td>60.0</td>\n",
       "      <td>0.0</td>\n",
       "      <td>0.0</td>\n",
       "      <td>0.0</td>\n",
       "      <td>0.0</td>\n",
       "      <td>0.0</td>\n",
       "      <td>0.0</td>\n",
       "    </tr>\n",
       "    <tr>\n",
       "      <th>207746</th>\n",
       "      <td>Y20H4001039P01T03</td>\n",
       "      <td>Y20H4001039P01</td>\n",
       "      <td>2020.0</td>\n",
       "      <td>1.0</td>\n",
       "      <td>3.0</td>\n",
       "      <td>720.0</td>\n",
       "      <td>730.0</td>\n",
       "      <td>10.0</td>\n",
       "      <td>10.0</td>\n",
       "      <td>0.0</td>\n",
       "      <td>...</td>\n",
       "      <td>0</td>\n",
       "      <td>0</td>\n",
       "      <td>0</td>\n",
       "      <td>10.0</td>\n",
       "      <td>0.0</td>\n",
       "      <td>0.0</td>\n",
       "      <td>0.0</td>\n",
       "      <td>0.0</td>\n",
       "      <td>0.0</td>\n",
       "      <td>0.0</td>\n",
       "    </tr>\n",
       "  </tbody>\n",
       "</table>\n",
       "<p>207747 rows × 45 columns</p>\n",
       "</div>"
      ],
      "text/plain": [
       "                  Trip_ID       Person_ID    Year  Total_Stops  Trip_Count  \\\n",
       "0       Y12H0000101P01T01  Y12H0000101P01  2012.0          1.0         1.0   \n",
       "1       Y12H0000101P01T02  Y12H0000101P01  2012.0          1.0         2.0   \n",
       "2       Y12H0000101P02T01  Y12H0000101P02  2012.0          1.0         1.0   \n",
       "3       Y12H0000101P02T02  Y12H0000101P02  2012.0          1.0         2.0   \n",
       "4       Y12H0000101P02T03  Y12H0000101P02  2012.0          1.0         3.0   \n",
       "...                   ...             ...     ...          ...         ...   \n",
       "207742  Y20H4001029P02T01  Y20H4001029P02  2020.0          1.0         1.0   \n",
       "207743  Y20H4001029P02T02  Y20H4001029P02  2020.0          1.0         2.0   \n",
       "207744  Y20H4001039P01T01  Y20H4001039P01  2020.0          1.0         1.0   \n",
       "207745  Y20H4001039P01T02  Y20H4001039P01  2020.0          1.0         2.0   \n",
       "207746  Y20H4001039P01T03  Y20H4001039P01  2020.0          1.0         3.0   \n",
       "\n",
       "        Start_Time  Arrival_Time  Trip_Time  Travel_Time  Wait_Time  ...  \\\n",
       "0            525.0         545.0       20.0         20.0        0.0  ...   \n",
       "1           1050.0        1075.0       25.0         25.0        0.0  ...   \n",
       "2            500.0         520.0       20.0         20.0        0.0  ...   \n",
       "3            540.0         550.0       10.0         10.0        0.0  ...   \n",
       "4            600.0         610.0       10.0         10.0        0.0  ...   \n",
       "...            ...           ...        ...          ...        ...  ...   \n",
       "207742       600.0         620.0       20.0         20.0        0.0  ...   \n",
       "207743       625.0         640.0       15.0         15.0        0.0  ...   \n",
       "207744       540.0         550.0       10.0         10.0        0.0  ...   \n",
       "207745       590.0         650.0       60.0         60.0        0.0  ...   \n",
       "207746       720.0         730.0       10.0         10.0        0.0  ...   \n",
       "\n",
       "        Mode_5  Mode_6 Mode_7 Time_1 Time_2 Time_3 Time_4 Time_5 Time_6 Time_7  \n",
       "0            0       0      0   20.0    0.0    0.0    0.0    0.0    0.0    0.0  \n",
       "1            0       0      0   25.0    0.0    0.0    0.0    0.0    0.0    0.0  \n",
       "2            0       0      0   20.0    0.0    0.0    0.0    0.0    0.0    0.0  \n",
       "3            0       0      0   10.0    0.0    0.0    0.0    0.0    0.0    0.0  \n",
       "4            0       0      0   10.0    0.0    0.0    0.0    0.0    0.0    0.0  \n",
       "...        ...     ...    ...    ...    ...    ...    ...    ...    ...    ...  \n",
       "207742       0       0      0   20.0    0.0    0.0    0.0    0.0    0.0    0.0  \n",
       "207743       0       0      0   15.0    0.0    0.0    0.0    0.0    0.0    0.0  \n",
       "207744       0       0      0   10.0    0.0    0.0    0.0    0.0    0.0    0.0  \n",
       "207745       0       0      0   60.0    0.0    0.0    0.0    0.0    0.0    0.0  \n",
       "207746       0       0      0   10.0    0.0    0.0    0.0    0.0    0.0    0.0  \n",
       "\n",
       "[207747 rows x 45 columns]"
      ]
     },
     "execution_count": 4,
     "metadata": {},
     "output_type": "execute_result"
    }
   ],
   "source": [
    "Vista"
   ]
  },
  {
   "cell_type": "code",
   "execution_count": 5,
   "id": "92fc7ea5",
   "metadata": {},
   "outputs": [
    {
     "data": {
      "text/plain": [
       "Index(['Trip_ID', 'Person_ID', 'Year', 'Total_Stops', 'Trip_Count',\n",
       "       'Start_Time', 'Arrival_Time', 'Trip_Time', 'Travel_Time', 'Wait_Time',\n",
       "       'Duration', 'Total_Distance', 'Original_Place_1', 'Original_Place_2',\n",
       "       'Original_Purpose_1', 'Original_Purpose_2', 'Destination_1',\n",
       "       'Destination_2', 'Dest_Purpose_1', 'Dest_Purpose_2', 'Starting_LGA',\n",
       "       'Ending_LGA', 'Trip_Purpose', 'Link_Mode', 'Dist_1', 'Dist_2', 'Dist_3',\n",
       "       'Dist_4', 'Dist_5', 'Dist_6', 'Dist_7', 'Mode_1', 'Mode_2', 'Mode_3',\n",
       "       'Mode_4', 'Mode_5', 'Mode_6', 'Mode_7', 'Time_1', 'Time_2', 'Time_3',\n",
       "       'Time_4', 'Time_5', 'Time_6', 'Time_7'],\n",
       "      dtype='object')"
      ]
     },
     "execution_count": 5,
     "metadata": {},
     "output_type": "execute_result"
    }
   ],
   "source": [
    "#Checking columns in dataset\n",
    "Vista.columns"
   ]
  },
  {
   "cell_type": "code",
   "execution_count": 6,
   "id": "9cebd271",
   "metadata": {},
   "outputs": [],
   "source": [
    "LGA_list = ['Mornington Peninsula S','Nillumbik S','Cardinia S',\n",
    "            'Knox C','Yarra Ranges S','Frankston C','Moreland C',\n",
    "            'Port Phillip C','Wyndham C','Merri-Bec C','Maroondah C',\n",
    "            'Casey C','Kingston C','Banyule C','Hobsons Bay C','Moonee Valley C',\n",
    "            'Greater Dandenong C','Whitehorse C','Brimbank C','Bayside C',\n",
    "            'Darebin C','Stonnington C','Maribyrnong C','Hume C','Glen Eira C','Boroondara C',\n",
    "            'Monash C','Yarra C','Whittlesea C','Melbourne C']"
   ]
  },
  {
   "cell_type": "code",
   "execution_count": 7,
   "id": "c97b136e",
   "metadata": {},
   "outputs": [
    {
     "name": "stdout",
     "output_type": "stream",
     "text": [
      "Dropping Manningham C from dataframe\n",
      "Dropping nan from dataframe\n",
      "Dropping Melton C from dataframe\n",
      "Dropping Greater Geelong C from dataframe\n",
      "Dropping Macedon Ranges S from dataframe\n",
      "Dropping Moorabool S from dataframe\n",
      "Dropping Queenscliffe B from dataframe\n",
      "Dropping Golden Plains S from dataframe\n",
      "Dropping Murrindindi S from dataframe\n",
      "Dropping Surf Coast S from dataframe\n",
      "Dropping Mitchell S from dataframe\n"
     ]
    },
    {
     "data": {
      "text/plain": [
       "array(['Whittlesea C', 'Banyule C', 'Hume C', 'Yarra C', 'Whitehorse C',\n",
       "       'Darebin C', 'Knox C', 'Maroondah C', 'Nillumbik S', nan,\n",
       "       'Maribyrnong C', 'Moreland C', 'Boroondara C', 'Brimbank C',\n",
       "       'Melbourne C', 'Frankston C', 'Greater Dandenong C', 'Kingston C',\n",
       "       'Mornington Peninsula S', 'Hobsons Bay C', 'Monash C',\n",
       "       'Stonnington C', 'Wyndham C', 'Glen Eira C', 'Port Phillip C',\n",
       "       'Bayside C', 'Casey C', 'Moonee Valley C', 'Yarra Ranges S',\n",
       "       'Cardinia S'], dtype=object)"
      ]
     },
     "execution_count": 7,
     "metadata": {},
     "output_type": "execute_result"
    }
   ],
   "source": [
    "#Delete rows of LGA that arent needed\n",
    "for lga in Vista['Starting_LGA'].unique():\n",
    "    if lga not in LGA_list:\n",
    "        print(f\"Dropping {lga} from dataframe\")\n",
    "        Vista = Vista.drop(Vista[Vista['Starting_LGA']== lga].index)\n",
    "        Vista = Vista.drop(Vista[Vista['Ending_LGA']== lga].index)\n",
    "Vista['Starting_LGA'].unique()"
   ]
  },
  {
   "cell_type": "markdown",
   "id": "faa4bfb7",
   "metadata": {},
   "source": [
    "## Grouping the data by starting and ending LGA"
   ]
  },
  {
   "cell_type": "code",
   "execution_count": null,
   "id": "a37dd39c",
   "metadata": {},
   "outputs": [],
   "source": [
    "#Grouping by starting LGA and counting the rows in each group\n",
    "Start_LGA_df = Vista.groupby(by='Starting_LGA').count().reset_index(drop=False)"
   ]
  },
  {
   "cell_type": "code",
   "execution_count": null,
   "id": "22492a9e",
   "metadata": {},
   "outputs": [],
   "source": [
    "#Removing uncessary columns\n",
    "Start_LGA_df = Start_LGA_df[['Starting_LGA','Trip_ID']]\n",
    "#Renaming the column for merge later\n",
    "Start_LGA_df = Start_LGA_df.rename(columns = {'Starting_LGA':'LGA','Trip_ID':'Starting LGA count'})"
   ]
  },
  {
   "cell_type": "code",
   "execution_count": null,
   "id": "4c7c078a",
   "metadata": {},
   "outputs": [],
   "source": [
    "#Grouping by ending LGA \n",
    "Ending_LGA_df = Vista.groupby(by='Ending_LGA').count().reset_index(drop=False)"
   ]
  },
  {
   "cell_type": "code",
   "execution_count": null,
   "id": "e80e7427",
   "metadata": {},
   "outputs": [],
   "source": [
    "#Removing uncessary columns\n",
    "Ending_LGA_df = Ending_LGA_df[['Ending_LGA','Trip_ID']]\n",
    "#Renaming the column for merge later\n",
    "Ending_LGA_df = Ending_LGA_df.rename(columns = {'Ending_LGA':'LGA','Trip_ID':'Ending LGA count'})"
   ]
  },
  {
   "cell_type": "code",
   "execution_count": null,
   "id": "69ec5ac0",
   "metadata": {},
   "outputs": [],
   "source": [
    "#Merge the LGA counts dataframes\n",
    "LGA_count = pd.merge(Start_LGA_df,Ending_LGA_df,on='LGA')"
   ]
  },
  {
   "cell_type": "code",
   "execution_count": null,
   "id": "87164203",
   "metadata": {},
   "outputs": [],
   "source": [
    "#Sort by increasing starting LGA count\n",
    "LGA_count = LGA_count.sort_values('Starting LGA count')"
   ]
  },
  {
   "cell_type": "code",
   "execution_count": null,
   "id": "cd4e9925",
   "metadata": {},
   "outputs": [],
   "source": [
    "#Changing values to log \n",
    "LGA_count['Start Log Value'] = np.log2(LGA_count['Starting LGA count'])\n",
    "LGA_count['End Log Value'] = np.log2(LGA_count['Ending LGA count'])"
   ]
  },
  {
   "cell_type": "code",
   "execution_count": null,
   "id": "3ea1757b",
   "metadata": {},
   "outputs": [],
   "source": [
    "LGA_count.sort_values('Starting LGA count')"
   ]
  },
  {
   "cell_type": "code",
   "execution_count": null,
   "id": "59258165",
   "metadata": {},
   "outputs": [],
   "source": [
    "#Create pie chart for melbourne compared to others\n",
    "labels = LGA_count['LGA'].unique()\n",
    "\n",
    "sizes = LGA_count['Starting LGA count']\n",
    "\n",
    "\n",
    "fig, ax = plt.subplots()\n",
    "patches, labels, pct_texts = ax.pie(sizes,labels=labels,rotatelabels=True,autopct='%1.2f%%')\n",
    "plt.title('Start LGA',pad=100)\n",
    "\n",
    "for label, pct_text in zip(labels, pct_texts):\n",
    "    pct_text.set_rotation(label.get_rotation())\n",
    "plt.savefig(f\"Images/Vista/Vista_Start_LGA_Pie.png\")\n",
    "plt.show()"
   ]
  },
  {
   "cell_type": "code",
   "execution_count": null,
   "id": "79a378f0",
   "metadata": {},
   "outputs": [],
   "source": [
    "#Create pie chart for melbourne compared to others\n",
    "labels = LGA_count['LGA'].unique()\n",
    "sizes2= LGA_count['Ending LGA count']\n",
    "\n",
    "fig, ax = plt.subplots()\n",
    "patches, labels, pct_texts = ax.pie(sizes2,labels=labels,rotatelabels=True,autopct='%1.2f%%')\n",
    "plt.title('Ending LGA',pad=100)\n",
    "\n",
    "for label, pct_text in zip(labels, pct_texts):\n",
    "    pct_text.set_rotation(label.get_rotation())\n",
    "plt.savefig(f\"Images/Vista/Vista_End_LGA_Pie.png\")\n",
    "plt.show()"
   ]
  },
  {
   "cell_type": "code",
   "execution_count": null,
   "id": "01163d38",
   "metadata": {},
   "outputs": [],
   "source": [
    "#Plotting log count of travel for each LGA \n",
    "LGA_count.plot(kind='bar',x = 'LGA',y=['Start Log Value','End Log Value'],ylabel='Log Counts of Travel')\n",
    "plt.ylim(11,14)\n",
    "plt.show()"
   ]
  },
  {
   "cell_type": "code",
   "execution_count": null,
   "id": "2b82d6fc",
   "metadata": {},
   "outputs": [],
   "source": [
    "#Plotting counts of travel for each LGA\n",
    "LGA_count.plot(kind='bar',x = 'LGA',y=['Starting LGA count','Ending LGA count'],ylabel= 'Counts of Travel')\n",
    "plt.tight_layout\n",
    "plt.savefig(f\"Images/Vista/Vista_LGA_Bargraph.png\")\n",
    "plt.show()"
   ]
  },
  {
   "cell_type": "markdown",
   "id": "36cf017c",
   "metadata": {},
   "source": [
    "## Grouping by purpose of travel"
   ]
  },
  {
   "cell_type": "code",
   "execution_count": null,
   "id": "055c985b",
   "metadata": {},
   "outputs": [],
   "source": [
    "#Grouping by trip purpose\n",
    "purpose_travel = Vista.groupby(by = 'Trip_Purpose').count()"
   ]
  },
  {
   "cell_type": "code",
   "execution_count": null,
   "id": "8978fb10",
   "metadata": {},
   "outputs": [],
   "source": [
    "#Resetting index and retrieveing only columns trip purpose and trip id\n",
    "purpose_travel_df = purpose_travel.reset_index(drop=False)[['Trip_Purpose','Trip_ID']]"
   ]
  },
  {
   "cell_type": "code",
   "execution_count": null,
   "id": "a1ca02f7",
   "metadata": {},
   "outputs": [],
   "source": [
    "purpose_travel_df = purpose_travel_df.sort_values(by='Trip_ID')"
   ]
  },
  {
   "cell_type": "code",
   "execution_count": null,
   "id": "7432b9aa",
   "metadata": {},
   "outputs": [],
   "source": [
    "purpose_travel_df.head()"
   ]
  },
  {
   "cell_type": "markdown",
   "id": "eaeddccf",
   "metadata": {},
   "source": [
    "##"
   ]
  },
  {
   "cell_type": "markdown",
   "id": "0615cd48",
   "metadata": {},
   "source": [
    "## Checking the usage of Bus, Train, Tram over 2018-2020"
   ]
  },
  {
   "cell_type": "code",
   "execution_count": null,
   "id": "abb718ba",
   "metadata": {},
   "outputs": [],
   "source": [
    "#Find the total counts Link_Mode for bus train and trams (The main mode of transport)\n",
    "Mode_year_df = Vista.groupby(by=['Link_Mode','Year']).count().reset_index()"
   ]
  },
  {
   "cell_type": "code",
   "execution_count": null,
   "id": "de4cebe9",
   "metadata": {},
   "outputs": [],
   "source": [
    "Mode_year_df.head()"
   ]
  },
  {
   "cell_type": "code",
   "execution_count": null,
   "id": "11f09601",
   "metadata": {},
   "outputs": [],
   "source": [
    "#Taking only years 2018-2020\n",
    "Mode_year_df = Mode_year_df.loc[((Mode_year_df['Year']==2018)|(Mode_year_df['Year']==2019)|(Mode_year_df['Year']==2020))]"
   ]
  },
  {
   "cell_type": "code",
   "execution_count": null,
   "id": "04a3d422",
   "metadata": {},
   "outputs": [],
   "source": [
    "#Plot scatter of counts over time\n",
    "plt.subplots()\n",
    "plt.plot(Mode_year_df.loc[Mode_year_df['Link_Mode']=='Train']['Year'],Mode_year_df.loc[Mode_year_df['Link_Mode']=='Train']['Trip_ID'],label='Train',color='Blue')\n",
    "plt.plot(Mode_year_df.loc[Mode_year_df['Link_Mode']=='Tram']['Year'],Mode_year_df.loc[Mode_year_df['Link_Mode']=='Tram']['Trip_ID'],label='Tram',color='Orange')\n",
    "plt.plot(Mode_year_df.loc[Mode_year_df['Link_Mode']=='Public Bus']['Year'],Mode_year_df.loc[Mode_year_df['Link_Mode']=='Public Bus']['Trip_ID'],label='Public Bus',color='Green')\n",
    "plt.xticks((2018,2019,2020))\n",
    "plt.title('Counts of main transport modes')\n",
    "plt.xlabel('Year')\n",
    "plt.ylabel('Counts')\n",
    "plt.grid()\n",
    "plt.savefig(f\"Images/Vista/Vista_Transport_Passenger_LineGraph.png\")\n",
    "plt.legend()"
   ]
  },
  {
   "cell_type": "code",
   "execution_count": null,
   "id": "e4d1d8d5",
   "metadata": {},
   "outputs": [],
   "source": [
    "#Grouping by link mode \n",
    "Mode_df = Vista.groupby(by='Link_Mode').count().reset_index()"
   ]
  },
  {
   "cell_type": "code",
   "execution_count": null,
   "id": "1a2269c5",
   "metadata": {},
   "outputs": [],
   "source": [
    "#Retrieving only rows that either contain train tram or pulbic bus\n",
    "Mode_df = Mode_df.loc[(Mode_df['Link_Mode']=='Train')|(Mode_df['Link_Mode']=='Tram')|(Mode_df['Link_Mode']=='Public Bus')]\n",
    "Mode_df"
   ]
  },
  {
   "cell_type": "code",
   "execution_count": null,
   "id": "eec2d107",
   "metadata": {},
   "outputs": [],
   "source": [
    "#Plot Pie Graph of main modes of transport used \n",
    "labels = Mode_df['Link_Mode'].unique()\n",
    "\n",
    "sizes = Mode_df['Trip_ID']\n",
    "fig, ax = plt.subplots()\n",
    "colors = ['Green','Blue','Orange']\n",
    "ax.pie(sizes,labels=labels,colors=colors,rotatelabels=True,autopct='%1.1f%%')\n",
    "plt.title('Percentage of main transport modes between Train, Tram,& Bus')\n",
    "plt.show()"
   ]
  },
  {
   "cell_type": "code",
   "execution_count": null,
   "id": "090fb6f2",
   "metadata": {},
   "outputs": [],
   "source": [
    "#Get the counts of Public Bus, Train, Tram in Mode 1 - 10\n",
    "Bus_counter = 0\n",
    "Train_counter = 0\n",
    "Tram_counter = 0\n",
    "\n",
    "counts_df = Vista[['Mode_1','Mode_2','Mode_3','Mode_4','Mode_5','Mode_6','Mode_7',]]"
   ]
  },
  {
   "cell_type": "code",
   "execution_count": null,
   "id": "d58a2e13",
   "metadata": {},
   "outputs": [],
   "source": [
    "#Saving counts for each mode into their list\n",
    "for column in counts_df:\n",
    "        Bus_counter = Bus_counter + counts_df[column].value_counts()['Public Bus']\n",
    "        Train_counter = Train_counter + counts_df[column].value_counts()['Train']\n",
    "        Tram_counter = Tram_counter + counts_df[column].value_counts()['Tram']"
   ]
  },
  {
   "cell_type": "code",
   "execution_count": null,
   "id": "fa22a964",
   "metadata": {},
   "outputs": [],
   "source": [
    "#Turn counts into a dataframe to plot\n",
    "labels = ['Bus','Train','Tram']\n",
    "counts = [Bus_counter,Train_counter,Tram_counter]\n",
    "data = {'Mode of Transport':labels,'Counts of Transport':counts}\n",
    "Mode_counts = pd.DataFrame(data=data)"
   ]
  },
  {
   "cell_type": "code",
   "execution_count": null,
   "id": "9ae14dcb",
   "metadata": {},
   "outputs": [],
   "source": [
    "Mode_counts"
   ]
  },
  {
   "cell_type": "code",
   "execution_count": null,
   "id": "35841505",
   "metadata": {},
   "outputs": [],
   "source": [
    "#Plot Pie Graph of Modes used.\n",
    "\n",
    "sizes = Mode_counts['Counts of Transport']\n",
    "fig, ax = plt.subplots()\n",
    "colors = ['Green','Blue','Orange']\n",
    "ax.pie(sizes,labels=labels,colors=colors,rotatelabels=True,autopct='%1.1f%%')\n",
    "plt.title('Percentage of Mode Transport between Train, Tram & Bus')\n",
    "plt.savefig(f\"Images/Vista/Vista_Transport_Mode_Pie.png\")\n",
    "plt.show()"
   ]
  },
  {
   "cell_type": "code",
   "execution_count": null,
   "id": "195edaea",
   "metadata": {},
   "outputs": [],
   "source": [
    "test = Vista.groupby(by='Starting_LGA').mean(numeric_only=True).reset_index(drop=False)"
   ]
  },
  {
   "cell_type": "code",
   "execution_count": null,
   "id": "94b57395",
   "metadata": {},
   "outputs": [],
   "source": [
    "test[['Starting_LGA','Travel_Time']]"
   ]
  },
  {
   "cell_type": "code",
   "execution_count": null,
   "id": "f0bcd179",
   "metadata": {},
   "outputs": [],
   "source": [
    "#Create bar graph on trip purpose \n",
    "Vista.groupby(by='Trip_Purpose').count().reset_index()[['Trip_Purpose','Trip_ID']].sort_values('Trip_ID').plot(kind='bar',x='Trip_Purpose')"
   ]
  },
  {
   "cell_type": "markdown",
   "id": "35fcf240",
   "metadata": {},
   "source": [
    "## Checking counts of trips purpose by city council area"
   ]
  },
  {
   "cell_type": "code",
   "execution_count": null,
   "id": "1eb71a1b",
   "metadata": {},
   "outputs": [],
   "source": [
    "test = Vista.groupby(by=['Starting_LGA','Trip_Purpose']).count().reset_index()[['Starting_LGA','Trip_Purpose','Trip_ID']]"
   ]
  },
  {
   "cell_type": "code",
   "execution_count": null,
   "id": "e0736231",
   "metadata": {},
   "outputs": [],
   "source": [
    "#test = test.loc[test['Trip_Purpose']=='Work Related'].sort_values(['Trip_ID'])"
   ]
  },
  {
   "cell_type": "code",
   "execution_count": null,
   "id": "c0652ba0",
   "metadata": {},
   "outputs": [],
   "source": [
    "test = test.sort_values('Trip_ID')"
   ]
  },
  {
   "cell_type": "code",
   "execution_count": null,
   "id": "bd30f9bd",
   "metadata": {},
   "outputs": [],
   "source": [
    "test = test.pivot(index='Trip_Purpose',columns='Starting_LGA').reset_index()#.plot(kind='bar',legend=False)"
   ]
  },
  {
   "cell_type": "code",
   "execution_count": null,
   "id": "98b79948",
   "metadata": {},
   "outputs": [],
   "source": [
    "test"
   ]
  },
  {
   "cell_type": "code",
   "execution_count": null,
   "id": "d4fc74da",
   "metadata": {},
   "outputs": [],
   "source": [
    "for purpose in test['Trip_Purpose'].unique():\n",
    "    test.loc[test['Trip_Purpose']==purpose].sort_values(by='Trip_Purpose',axis=0).plot(kind='bar',x ='Trip_Purpose').legend(loc='right',bbox_to_anchor=(2, 0.5))\n",
    "    plt.xlabel('Trip Purpose')\n",
    "    plt.ylabel('Counts of Trips')\n",
    "    plt.xticks(rotation=360)\n",
    "    plt.tight_layout\n",
    "    plt.savefig(f\"Images/Vista/Vista_{purpose}_bar_.png\")"
   ]
  },
  {
   "cell_type": "code",
   "execution_count": null,
   "id": "bc76c0d4",
   "metadata": {},
   "outputs": [],
   "source": []
  }
 ],
 "metadata": {
  "kernelspec": {
   "display_name": "Python 3 (ipykernel)",
   "language": "python",
   "name": "python3"
  },
  "language_info": {
   "codemirror_mode": {
    "name": "ipython",
    "version": 3
   },
   "file_extension": ".py",
   "mimetype": "text/x-python",
   "name": "python",
   "nbconvert_exporter": "python",
   "pygments_lexer": "ipython3",
   "version": "3.9.17"
  }
 },
 "nbformat": 4,
 "nbformat_minor": 5
}
